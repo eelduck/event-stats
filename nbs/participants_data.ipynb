{
 "cells": [
  {
   "cell_type": "code",
   "execution_count": 63,
   "id": "278c479c",
   "metadata": {},
   "outputs": [],
   "source": [
    "import pathlib\n",
    "from pathlib import Path\n",
    "\n",
    "import pandas as pd\n",
    "\n",
    "from nbs.django_setup import init_django\n",
    "\n",
    "init_django('event_stats')"
   ]
  },
  {
   "cell_type": "code",
   "execution_count": 64,
   "id": "0fe6e1a5",
   "metadata": {
    "pycharm": {
     "name": "#%%\n"
    }
   },
   "outputs": [],
   "source": [
    "from event_stats_app.models import *"
   ]
  },
  {
   "cell_type": "code",
   "execution_count": 65,
   "id": "9c7a0889",
   "metadata": {},
   "outputs": [
    {
     "name": "stdout",
     "output_type": "stream",
     "text": [
      "C:\\Users\\soulless\\Documents\\Projects\\event-stats\n"
     ]
    }
   ],
   "source": [
    "ROOT_DIR = pathlib.Path().resolve().parent\n",
    "print(ROOT_DIR)\n",
    "NBS_DIR = ROOT_DIR / \"nbs\"\n",
    "DATA_DIR = Path(r'C:\\Users\\soulless\\Downloads')"
   ]
  },
  {
   "cell_type": "code",
   "execution_count": 66,
   "id": "e06c7890",
   "metadata": {},
   "outputs": [],
   "source": [
    "filename = r'Uchastniki_12.04.2021_--_Java_i_C_._Backend-praktikum_onlayn_ot_IT-kompanii_SimbirSoft_--_na_9.04.20.xlsx'\n",
    "filepath = DATA_DIR / filename"
   ]
  },
  {
   "cell_type": "code",
   "execution_count": 67,
   "id": "4e4087ee",
   "metadata": {},
   "outputs": [
    {
     "data": {
      "text/plain": "                                             Событие       Город  Адрес  \\\n0  Java и C#. Backend-практикум онлайн от IT-комп...  Без города    NaN   \n1  Java и C#. Backend-практикум онлайн от IT-комп...  Без города    NaN   \n2  Java и C#. Backend-практикум онлайн от IT-комп...  Без города    NaN   \n3  Java и C#. Backend-практикум онлайн от IT-комп...  Без города    NaN   \n4  Java и C#. Backend-практикум онлайн от IT-комп...  Без города    NaN   \n\n                  Дата     Заказ                Код       Штрихкод  \\\n0  2021-04-12 18:00:00  34175343  43370243:96890684  1000968906849   \n1  2021-04-12 18:00:00  34204692  43406941:21272486  1000212724861   \n2  2021-04-12 18:00:00  34213598  43418764:10611111  1000106111111   \n3  2021-04-12 18:00:00  34219249  43425927:59401513  1000594015137   \n4  2021-04-12 18:00:00  34219847  43426673:16310612  1000163106129   \n\n       Зарегистрирован  Оплатил  Сумма  ...        Имя  \\\n0  2021-03-01 13:18:56      NaN    NaN  ...  Александр   \n1  2021-03-02 16:53:46      NaN    NaN  ...       Олег   \n2  2021-03-03 00:23:43      NaN    NaN  ...  Александр   \n3  2021-03-03 11:08:12      NaN    NaN  ...     Сергей   \n4  2021-03-03 11:29:19      NaN    NaN  ...      Ольга   \n\n   Номер телефона: + 7 (__) __       Город.1  \\\n0               +7(902)0070821     Ульяновск   \n1          + 7 (937) 650-80-87        Самара   \n2                   9677905223        Казань   \n3                 +79278028812  Димитровград   \n4                   9632346628     Ульяновск   \n\n   Для записи на практикум выберите один из треков:  \\\n0                                                C#   \n1                                                C#   \n2                                                C#   \n3                                                C#   \n4                                                C#   \n\n               Рекламная кампания       Источник трафика  Канал регистрации  \\\n0                      Неизвестно             simbirsoft         Неизвестно   \n1  practicum_Backend_12_04_1anons                     vk    Социальные сети   \n2  practicum_Backend_12_04_1anons                     vk    Социальные сети   \n3                   Прямой трафик          Прямой трафик      Прямой трафик   \n4               Переходы с сайтов  simbirsoft.timepad.ru  Переходы с сайтов   \n\n    GA ClientID Пришёл Комментарий  \n0  1.643347e+09    Нет         NaN  \n1           NaN    Нет         NaN  \n2  1.111874e+09    Нет         NaN  \n3  7.786859e+07    Нет         NaN  \n4           NaN    Нет         NaN  \n\n[5 rows x 27 columns]",
      "text/html": "<div>\n<style scoped>\n    .dataframe tbody tr th:only-of-type {\n        vertical-align: middle;\n    }\n\n    .dataframe tbody tr th {\n        vertical-align: top;\n    }\n\n    .dataframe thead th {\n        text-align: right;\n    }\n</style>\n<table border=\"1\" class=\"dataframe\">\n  <thead>\n    <tr style=\"text-align: right;\">\n      <th></th>\n      <th>Событие</th>\n      <th>Город</th>\n      <th>Адрес</th>\n      <th>Дата</th>\n      <th>Заказ</th>\n      <th>Код</th>\n      <th>Штрихкод</th>\n      <th>Зарегистрирован</th>\n      <th>Оплатил</th>\n      <th>Сумма</th>\n      <th>...</th>\n      <th>Имя</th>\n      <th>Номер телефона: + 7 (__) __</th>\n      <th>Город.1</th>\n      <th>Для записи на практикум выберите один из треков:</th>\n      <th>Рекламная кампания</th>\n      <th>Источник трафика</th>\n      <th>Канал регистрации</th>\n      <th>GA ClientID</th>\n      <th>Пришёл</th>\n      <th>Комментарий</th>\n    </tr>\n  </thead>\n  <tbody>\n    <tr>\n      <th>0</th>\n      <td>Java и C#. Backend-практикум онлайн от IT-комп...</td>\n      <td>Без города</td>\n      <td>NaN</td>\n      <td>2021-04-12 18:00:00</td>\n      <td>34175343</td>\n      <td>43370243:96890684</td>\n      <td>1000968906849</td>\n      <td>2021-03-01 13:18:56</td>\n      <td>NaN</td>\n      <td>NaN</td>\n      <td>...</td>\n      <td>Александр</td>\n      <td>+7(902)0070821</td>\n      <td>Ульяновск</td>\n      <td>C#</td>\n      <td>Неизвестно</td>\n      <td>simbirsoft</td>\n      <td>Неизвестно</td>\n      <td>1.643347e+09</td>\n      <td>Нет</td>\n      <td>NaN</td>\n    </tr>\n    <tr>\n      <th>1</th>\n      <td>Java и C#. Backend-практикум онлайн от IT-комп...</td>\n      <td>Без города</td>\n      <td>NaN</td>\n      <td>2021-04-12 18:00:00</td>\n      <td>34204692</td>\n      <td>43406941:21272486</td>\n      <td>1000212724861</td>\n      <td>2021-03-02 16:53:46</td>\n      <td>NaN</td>\n      <td>NaN</td>\n      <td>...</td>\n      <td>Олег</td>\n      <td>+ 7 (937) 650-80-87</td>\n      <td>Самара</td>\n      <td>C#</td>\n      <td>practicum_Backend_12_04_1anons</td>\n      <td>vk</td>\n      <td>Социальные сети</td>\n      <td>NaN</td>\n      <td>Нет</td>\n      <td>NaN</td>\n    </tr>\n    <tr>\n      <th>2</th>\n      <td>Java и C#. Backend-практикум онлайн от IT-комп...</td>\n      <td>Без города</td>\n      <td>NaN</td>\n      <td>2021-04-12 18:00:00</td>\n      <td>34213598</td>\n      <td>43418764:10611111</td>\n      <td>1000106111111</td>\n      <td>2021-03-03 00:23:43</td>\n      <td>NaN</td>\n      <td>NaN</td>\n      <td>...</td>\n      <td>Александр</td>\n      <td>9677905223</td>\n      <td>Казань</td>\n      <td>C#</td>\n      <td>practicum_Backend_12_04_1anons</td>\n      <td>vk</td>\n      <td>Социальные сети</td>\n      <td>1.111874e+09</td>\n      <td>Нет</td>\n      <td>NaN</td>\n    </tr>\n    <tr>\n      <th>3</th>\n      <td>Java и C#. Backend-практикум онлайн от IT-комп...</td>\n      <td>Без города</td>\n      <td>NaN</td>\n      <td>2021-04-12 18:00:00</td>\n      <td>34219249</td>\n      <td>43425927:59401513</td>\n      <td>1000594015137</td>\n      <td>2021-03-03 11:08:12</td>\n      <td>NaN</td>\n      <td>NaN</td>\n      <td>...</td>\n      <td>Сергей</td>\n      <td>+79278028812</td>\n      <td>Димитровград</td>\n      <td>C#</td>\n      <td>Прямой трафик</td>\n      <td>Прямой трафик</td>\n      <td>Прямой трафик</td>\n      <td>7.786859e+07</td>\n      <td>Нет</td>\n      <td>NaN</td>\n    </tr>\n    <tr>\n      <th>4</th>\n      <td>Java и C#. Backend-практикум онлайн от IT-комп...</td>\n      <td>Без города</td>\n      <td>NaN</td>\n      <td>2021-04-12 18:00:00</td>\n      <td>34219847</td>\n      <td>43426673:16310612</td>\n      <td>1000163106129</td>\n      <td>2021-03-03 11:29:19</td>\n      <td>NaN</td>\n      <td>NaN</td>\n      <td>...</td>\n      <td>Ольга</td>\n      <td>9632346628</td>\n      <td>Ульяновск</td>\n      <td>C#</td>\n      <td>Переходы с сайтов</td>\n      <td>simbirsoft.timepad.ru</td>\n      <td>Переходы с сайтов</td>\n      <td>NaN</td>\n      <td>Нет</td>\n      <td>NaN</td>\n    </tr>\n  </tbody>\n</table>\n<p>5 rows × 27 columns</p>\n</div>"
     },
     "execution_count": 67,
     "metadata": {},
     "output_type": "execute_result"
    }
   ],
   "source": [
    "df = pd.read_excel(filepath)\n",
    "df.head()"
   ]
  },
  {
   "cell_type": "code",
   "execution_count": 68,
   "id": "79fd0219",
   "metadata": {},
   "outputs": [
    {
     "name": "stdout",
     "output_type": "stream",
     "text": [
      "<class 'pandas.core.frame.DataFrame'>\n",
      "RangeIndex: 150 entries, 0 to 149\n",
      "Data columns (total 27 columns):\n",
      " #   Column                                            Non-Null Count  Dtype  \n",
      "---  ------                                            --------------  -----  \n",
      " 0   Событие                                           150 non-null    object \n",
      " 1   Город                                             150 non-null    object \n",
      " 2   Адрес                                             0 non-null      float64\n",
      " 3   Дата                                              150 non-null    object \n",
      " 4   Заказ                                             150 non-null    int64  \n",
      " 5   Код                                               150 non-null    object \n",
      " 6   Штрихкод                                          150 non-null    int64  \n",
      " 7   Зарегистрирован                                   150 non-null    object \n",
      " 8   Оплатил                                           0 non-null      float64\n",
      " 9   Сумма                                             0 non-null      float64\n",
      " 10  Тип оплаты                                        0 non-null      float64\n",
      " 11  ID оплаты                                         0 non-null      float64\n",
      " 12  Тип билета                                        150 non-null    object \n",
      " 13  Промокод                                          0 non-null      float64\n",
      " 14  Статус                                            150 non-null    object \n",
      " 15  E-mail                                            150 non-null    object \n",
      " 16  Фамилия                                           150 non-null    object \n",
      " 17  Имя                                               150 non-null    object \n",
      " 18  Номер телефона: + 7 (__) __                       150 non-null    object \n",
      " 19  Город.1                                           150 non-null    object \n",
      " 20  Для записи на практикум выберите один из треков:  150 non-null    object \n",
      " 21  Рекламная кампания                                150 non-null    object \n",
      " 22  Источник трафика                                  150 non-null    object \n",
      " 23  Канал регистрации                                 150 non-null    object \n",
      " 24  GA ClientID                                       131 non-null    float64\n",
      " 25  Пришёл                                            150 non-null    object \n",
      " 26  Комментарий                                       0 non-null      float64\n",
      "dtypes: float64(8), int64(2), object(17)\n",
      "memory usage: 31.8+ KB\n"
     ]
    }
   ],
   "source": [
    "df.info()"
   ]
  },
  {
   "cell_type": "code",
   "execution_count": 69,
   "id": "9a84fa6e",
   "metadata": {},
   "outputs": [],
   "source": [
    "# Объявление переменных заголовков таблицы\n",
    "event_header = 'Событие'\n",
    "event_date_header = 'Дата'\n",
    "track_name_header = 'Для записи на практикум выберите один из треков:'\n",
    "user_city_header = 'Город.1'\n",
    "user_first_name_header = 'Имя'\n",
    "user_last_name_header = 'Фамилия'\n",
    "user_email_header = 'E-mail'\n",
    "user_phone_number_header = r'Номер телефона: + 7 (__) __'"
   ]
  },
  {
   "cell_type": "code",
   "execution_count": 70,
   "id": "5fff8dce",
   "metadata": {},
   "outputs": [],
   "source": [
    "# Первоначальные преобразования таблицы\n",
    "df[event_date_header] = df[event_date_header].astype('datetime64')"
   ]
  },
  {
   "cell_type": "code",
   "execution_count": 71,
   "outputs": [],
   "source": [
    "user_attributes = [\n",
    "    user_first_name_header,\n",
    "    user_last_name_header,\n",
    "    user_email_header,\n",
    "    user_phone_number_header,\n",
    "    user_city_header,\n",
    "]"
   ],
   "metadata": {
    "collapsed": false,
    "pycharm": {
     "name": "#%%\n"
    }
   }
  },
  {
   "cell_type": "code",
   "execution_count": 72,
   "id": "9d648898",
   "metadata": {
    "pycharm": {
     "name": "#%%\n"
    }
   },
   "outputs": [
    {
     "data": {
      "text/plain": "           Имя      Фамилия                       E-mail  \\\n0    Александр      Кулагин            kulaginag@mail.ru   \n1         Олег     Бербасов        olegoleg.ru@gmail.com   \n2    Александр     Мясников      chuvashpeople@yandex.ru   \n3       Сергей    Хворенков           shvorenkov@mail.ru   \n4        Ольга    Абакумова   abakumova.olga.a@yandex.ru   \n..         ...          ...                          ...   \n144       Макс      Лизунов             lm201111@mail.ru   \n146       Илья        Щекин       ilyashekin2811@mail.ru   \n147     Михаил  Стрельченко           strelchm@yandex.ru   \n148       Иван    Сибиряков  ivan.sibiryakov27@gmail.com   \n149  Александр       Костин            kav7107@gmail.com   \n\n    Номер телефона: + 7 (__) __          Город.1  \n0                +7(902)0070821        Ульяновск  \n1           + 7 (937) 650-80-87           Самара  \n2                    9677905223           Казань  \n3                  +79278028812     Димитровград  \n4                    9632346628        Ульяновск  \n..                          ...              ...  \n144              +7(908)4738467        Ульяновск  \n146                  9277310932           Самара  \n147                  9539143526            Томск  \n148                +79214682088  Санкт-Петербург  \n149              +7(952)0986100  Санкт-Петербург  \n\n[147 rows x 5 columns]",
      "text/html": "<div>\n<style scoped>\n    .dataframe tbody tr th:only-of-type {\n        vertical-align: middle;\n    }\n\n    .dataframe tbody tr th {\n        vertical-align: top;\n    }\n\n    .dataframe thead th {\n        text-align: right;\n    }\n</style>\n<table border=\"1\" class=\"dataframe\">\n  <thead>\n    <tr style=\"text-align: right;\">\n      <th></th>\n      <th>Имя</th>\n      <th>Фамилия</th>\n      <th>E-mail</th>\n      <th>Номер телефона: + 7 (__) __</th>\n      <th>Город.1</th>\n    </tr>\n  </thead>\n  <tbody>\n    <tr>\n      <th>0</th>\n      <td>Александр</td>\n      <td>Кулагин</td>\n      <td>kulaginag@mail.ru</td>\n      <td>+7(902)0070821</td>\n      <td>Ульяновск</td>\n    </tr>\n    <tr>\n      <th>1</th>\n      <td>Олег</td>\n      <td>Бербасов</td>\n      <td>olegoleg.ru@gmail.com</td>\n      <td>+ 7 (937) 650-80-87</td>\n      <td>Самара</td>\n    </tr>\n    <tr>\n      <th>2</th>\n      <td>Александр</td>\n      <td>Мясников</td>\n      <td>chuvashpeople@yandex.ru</td>\n      <td>9677905223</td>\n      <td>Казань</td>\n    </tr>\n    <tr>\n      <th>3</th>\n      <td>Сергей</td>\n      <td>Хворенков</td>\n      <td>shvorenkov@mail.ru</td>\n      <td>+79278028812</td>\n      <td>Димитровград</td>\n    </tr>\n    <tr>\n      <th>4</th>\n      <td>Ольга</td>\n      <td>Абакумова</td>\n      <td>abakumova.olga.a@yandex.ru</td>\n      <td>9632346628</td>\n      <td>Ульяновск</td>\n    </tr>\n    <tr>\n      <th>...</th>\n      <td>...</td>\n      <td>...</td>\n      <td>...</td>\n      <td>...</td>\n      <td>...</td>\n    </tr>\n    <tr>\n      <th>144</th>\n      <td>Макс</td>\n      <td>Лизунов</td>\n      <td>lm201111@mail.ru</td>\n      <td>+7(908)4738467</td>\n      <td>Ульяновск</td>\n    </tr>\n    <tr>\n      <th>146</th>\n      <td>Илья</td>\n      <td>Щекин</td>\n      <td>ilyashekin2811@mail.ru</td>\n      <td>9277310932</td>\n      <td>Самара</td>\n    </tr>\n    <tr>\n      <th>147</th>\n      <td>Михаил</td>\n      <td>Стрельченко</td>\n      <td>strelchm@yandex.ru</td>\n      <td>9539143526</td>\n      <td>Томск</td>\n    </tr>\n    <tr>\n      <th>148</th>\n      <td>Иван</td>\n      <td>Сибиряков</td>\n      <td>ivan.sibiryakov27@gmail.com</td>\n      <td>+79214682088</td>\n      <td>Санкт-Петербург</td>\n    </tr>\n    <tr>\n      <th>149</th>\n      <td>Александр</td>\n      <td>Костин</td>\n      <td>kav7107@gmail.com</td>\n      <td>+7(952)0986100</td>\n      <td>Санкт-Петербург</td>\n    </tr>\n  </tbody>\n</table>\n<p>147 rows × 5 columns</p>\n</div>"
     },
     "execution_count": 72,
     "metadata": {},
     "output_type": "execute_result"
    }
   ],
   "source": [
    "# TODO: Добавлять последние данные юзера по дате регистрации (если произошла ошибка и пользователь сменил данные)\n",
    "users_df = df[user_attributes].drop_duplicates(subset=user_email_header)\n",
    "users_df"
   ]
  },
  {
   "cell_type": "code",
   "execution_count": 73,
   "id": "6afc5eeb",
   "metadata": {},
   "outputs": [
    {
     "data": {
      "text/plain": "147"
     },
     "execution_count": 73,
     "metadata": {},
     "output_type": "execute_result"
    }
   ],
   "source": [
    "len(df[user_email_header].unique())"
   ]
  },
  {
   "cell_type": "code",
   "execution_count": 74,
   "id": "abfe6309",
   "metadata": {},
   "outputs": [],
   "source": [
    "def add_objects(Model, data: list[dict], wipe: bool = False):\n",
    "    \"\"\"\n",
    "    Добавление экземпляров модели\n",
    "    data: Данные для добавление\n",
    "    Model: django.db.models - модель, в которую будут добавляться данные\n",
    "    wipe: флаг очистки всех сущностней модели\n",
    "    \"\"\"\n",
    "    qs = Model.objects.all()\n",
    "    if wipe and qs.count() != 0:\n",
    "        qs.delete()\n",
    "    new_entries = []\n",
    "    if qs.count() == 0:\n",
    "        for d in data:\n",
    "            new_obj = Model(**d)\n",
    "            new_entries.append(new_obj)\n",
    "\n",
    "        Model.objects.bulk_create(new_entries)\n",
    "    else:\n",
    "        for d in data:\n",
    "            new_obj, created = Model.objects.get_or_create(**d)\n",
    "            print(new_obj)\n",
    "            # for k, v in d.items():\n",
    "            #     if k == 'tag':\n",
    "            #         continue\n",
    "            #     setattr(new_obj, k, v)\n",
    "            if created:\n",
    "                new_obj.save()"
   ]
  },
  {
   "cell_type": "code",
   "execution_count": 75,
   "id": "e4eadbba",
   "metadata": {
    "pycharm": {
     "name": "#%%\n"
    }
   },
   "outputs": [],
   "source": [
    "def del_all_objects(Model):\n",
    "    \"\"\"\n",
    "    Удаление всех экземпляров модели\n",
    "    Model: django.db.models\n",
    "    \"\"\"\n",
    "    qs = Model.objects.all()\n",
    "    qs.delete()"
   ]
  },
  {
   "cell_type": "markdown",
   "source": [
    "## Создание Пользователей"
   ],
   "metadata": {
    "collapsed": false
   }
  },
  {
   "cell_type": "code",
   "execution_count": 76,
   "id": "272de6f0",
   "metadata": {
    "pycharm": {
     "name": "#%%\n"
    }
   },
   "outputs": [],
   "source": [
    "columns_to_rename = {\n",
    "    user_first_name_header: 'first_name',\n",
    "    user_last_name_header: 'last_name',\n",
    "    user_email_header: 'email',\n",
    "    user_phone_number_header: 'phone_number',\n",
    "    user_city_header: 'city',\n",
    "}\n",
    "# Для оптимизации и вставки по месту (без порождения DF) inplace=True\n",
    "# https://stackoverflow.com/questions/11346283/renaming-columns-in-pandas\n",
    "users_df = users_df.rename(columns=columns_to_rename)\n",
    "columns_to_export = [\n",
    "    'first_name',\n",
    "    'last_name',\n",
    "    'email',\n",
    "    'phone_number',\n",
    "    'city',\n",
    "]\n",
    "\n",
    "users_data = users_df[columns_to_export].to_dict('records')\n",
    "# users_data"
   ]
  },
  {
   "cell_type": "code",
   "execution_count": 77,
   "id": "39cc319f",
   "metadata": {
    "pycharm": {
     "name": "#%%\n"
    }
   },
   "outputs": [
    {
     "name": "stdout",
     "output_type": "stream",
     "text": [
      "kulaginag@mail.ru\n",
      "olegoleg.ru@gmail.com\n",
      "chuvashpeople@yandex.ru\n",
      "shvorenkov@mail.ru\n",
      "abakumova.olga.a@yandex.ru\n",
      "e.svaeva1@gmail.com\n",
      "mshigapov13@gmail.com\n",
      "v.yumshanov@mail.ru\n",
      "linkorvb1@rambler.ru\n",
      "Esoft@mail.ru\n",
      "svigolubev@gmsil.com\n",
      "saiaktelike@gmail.com\n",
      "Popckov.slav@yandex.ru\n",
      "luck99bahek@mail.ru\n",
      "zma2002@mail.ru\n",
      "shdaownik@mail.ru\n",
      "Beluhina1999@mail.ru\n",
      "rostislav.denisovich@yandex.ru\n",
      "shakhmatov0202@mail.ru\n",
      "aigul.sibgatulli@mail.ru\n",
      "upiter82@list.ru\n",
      "iamdabdya@gmail.com\n",
      "cool.niyazik12@yandex.ru\n",
      "m_garanin@mail.ru\n",
      "aleksandra.grid2012@gmail.com\n",
      "igor.koloytanov@gmail.com\n",
      "Feel_goody@mail.ru\n",
      "zizus89@gmail.com\n",
      "alexhause1@mail.ru\n",
      "svigolubev@gmail.com\n",
      "reven.s5657@mail.ru\n",
      "k-konnov@list.ru\n",
      "ffgh04@gmail.com\n",
      "artyom.chertilin@gmail.com\n",
      "Denzil94@mail.ru\n",
      "aizhs1@gmail.com\n",
      "e.kondratjev@gmail.com\n",
      "ayrat.mt@gmail.com\n",
      "invsework@gmail.com\n",
      "rylov1999@mail.ru\n",
      "a.a.kaltenberg@yandex.ru\n",
      "dima.stepin10@mail.ru\n",
      "slepov.ep@gmail.com\n",
      "svyat-linev@yandex.ru\n",
      "mgalanin446@gmail.com\n",
      "leolevin91@gmail.com\n",
      "myfunnyrabbit@icloud.com\n",
      "sonya.chern@gmail.com\n",
      "Gotour.saratov@yandex.ru\n",
      "tim_yalovoy@mail.ru\n",
      "grant.kesiyan@mail.ru\n",
      "vskirilov2015@yandex.ru\n",
      "rybnikovv@list.ru\n",
      "AMokrev@gmail.com\n",
      "neutronization@gmail.com\n",
      "slade.wilson.1980@mail.ru\n",
      "passmirgeb@gmail.com\n",
      "darknesoft@gmail.com\n",
      "nikita.ptashckin@yandex.ru\n",
      "alternative6556@gmail.com\n",
      "hm47web@gmail.com\n",
      "aleksej_shabalin_00@mail.ru\n",
      "taclipoka@gmail.com\n",
      "Stratonov89@gmail.com\n",
      "ars4184@yandex.ru\n",
      "folcon2001@mail.ru\n",
      "siegfried1997@gmail.com\n",
      "niksut2000@mail.ru\n",
      "os.5-9@yandex.ru\n",
      "elektrotehnikka@yandex.ru\n",
      "Darkzarl@yandex.ru\n",
      "reddns5@mail.ru\n",
      "Homer57@inbox.ru\n",
      "domitorii.filimonov@gmail.com\n",
      "hil-diana@mail.ru\n",
      "Tarha2886@ya.ru\n",
      "Srgvnn@bk.ru\n",
      "nika-alenka@mail.ru\n",
      "wistfuldr@mail.ru\n",
      "gimrt73@gmail.com\n",
      "alvu87@mail.ru\n",
      "karim.borhanov@gmail.com\n",
      "buzhlachudo@gmail.com\n",
      "romanov11-11@mail.ru\n",
      "goleg0904@gmail.com\n",
      "dubrathers@mail.ru\n",
      "19dantes91@gmail.com\n",
      "SchakinaSvetlana@yandex.ru\n",
      "evgen.pahomov01@mail.ru\n",
      "Vadim.139@mail.ru\n",
      "noob.online@yandex.ru\n",
      "radoigovich@yandex.ru\n",
      "ivkuzaev@mail.ru\n",
      "Dima.unitzaev@icloud.com\n",
      "serovstanislav@yandex.ru\n",
      "2fotopro@gmail.com\n",
      "daryabich98@gmail.com\n",
      "golivkin.s.v@gmail.com\n",
      "Ravil_vasfiev@mail.ru\n",
      "nekotanekota@yandex.ru\n",
      "c.a.tulenov@gmail.com\n",
      "int-8@yandex.ru\n",
      "scha96@mail.ru\n",
      "torrent.98@mail.ru\n",
      "wybunetri@gmail.com\n",
      "Ko4emasova2010@yandex.ru\n",
      "m001rr13rus@ya.ru\n",
      "konovalovily0987@gmail.com\n",
      "vyushkova-marina@mail.ru\n",
      "Ramilkontes@mail.ru\n",
      "Madahtoxa@mail.ru\n",
      "nikitin42maxim@gmail.com\n",
      "sinitsynme@outlook.com\n",
      "Malov.rrc@yandex.ru\n",
      "vlad.rabatat@gmail.com\n",
      "Ira525470@gmail.com\n",
      "Nailknn@mail.ru\n",
      "danillokalp2000@yandex.ru\n",
      "hohlov.aleksandr.a@gmail.com\n",
      "tarasoff73rus@gmail.com\n",
      "slwtk@mail.ru\n",
      "yuliya.funtova@gmail.com\n",
      "Culugur1@yandex.ru\n",
      "max_g88@mail.ru\n",
      "al.erenkov@yandex.ru\n",
      "bloshound@gmail.com\n",
      "Rebrin24@gmail.com\n",
      "zolman99@gmail.com\n",
      "nnolenka@mail.ru\n",
      "i7brothers@icloud.com\n",
      "ek899899@gmail.com\n",
      "baira.98@mail.ru\n",
      "deniskhaliullin@gmail.com\n",
      "Ann-klipka@mail.ru\n",
      "Morboaport.ru@mail.ru\n",
      "dmimilkin@gmail.com\n",
      "Haltero@yandex.ru\n",
      "rpg-sigma@yandex.ru\n",
      "kutuzovvladislav@mail.ru\n",
      "Lily.kmtd@gmail.com\n",
      "gamid91@rambler.ru\n",
      "vitevskiy@mail.ru\n",
      "lm201111@mail.ru\n",
      "ilyashekin2811@mail.ru\n",
      "strelchm@yandex.ru\n",
      "ivan.sibiryakov27@gmail.com\n",
      "kav7107@gmail.com\n"
     ]
    }
   ],
   "source": [
    "# Добавление новых пользователей\n",
    "add_objects(User, users_data)"
   ]
  },
  {
   "cell_type": "markdown",
   "source": [
    "## Создание Событий"
   ],
   "metadata": {
    "collapsed": false
   }
  },
  {
   "cell_type": "code",
   "execution_count": 78,
   "id": "c506479c",
   "metadata": {
    "pycharm": {
     "name": "#%%\n"
    }
   },
   "outputs": [
    {
     "data": {
      "text/plain": "                                             Событие                Дата\n0  Java и C#. Backend-практикум онлайн от IT-комп... 2021-04-12 18:00:00",
      "text/html": "<div>\n<style scoped>\n    .dataframe tbody tr th:only-of-type {\n        vertical-align: middle;\n    }\n\n    .dataframe tbody tr th {\n        vertical-align: top;\n    }\n\n    .dataframe thead th {\n        text-align: right;\n    }\n</style>\n<table border=\"1\" class=\"dataframe\">\n  <thead>\n    <tr style=\"text-align: right;\">\n      <th></th>\n      <th>Событие</th>\n      <th>Дата</th>\n    </tr>\n  </thead>\n  <tbody>\n    <tr>\n      <th>0</th>\n      <td>Java и C#. Backend-практикум онлайн от IT-комп...</td>\n      <td>2021-04-12 18:00:00</td>\n    </tr>\n  </tbody>\n</table>\n</div>"
     },
     "execution_count": 78,
     "metadata": {},
     "output_type": "execute_result"
    }
   ],
   "source": [
    "events_df = df[[event_header, event_date_header]].drop_duplicates()\n",
    "# events_df[event_date_header] = events_df[event_date_header].astype('datetime64')\n",
    "events_df"
   ]
  },
  {
   "cell_type": "code",
   "execution_count": 79,
   "outputs": [],
   "source": [
    "columns_to_rename = {\n",
    "    event_header: 'title',\n",
    "    event_date_header: 'date',\n",
    "}\n",
    "events_df = events_df.rename(columns=columns_to_rename)\n",
    "columns_to_export = [\n",
    "    'title',\n",
    "    'date',\n",
    "]\n",
    "\n",
    "events_data = events_df[columns_to_export].to_dict('records')"
   ],
   "metadata": {
    "collapsed": false,
    "pycharm": {
     "name": "#%%\n"
    }
   }
  },
  {
   "cell_type": "code",
   "execution_count": 80,
   "outputs": [
    {
     "name": "stdout",
     "output_type": "stream",
     "text": [
      "Java и C#. Backend-практикум онлайн от IT-компании SimbirSoft 2021-04-12\n"
     ]
    }
   ],
   "source": [
    "add_objects(Event, events_data)"
   ],
   "metadata": {
    "collapsed": false,
    "pycharm": {
     "name": "#%%\n"
    }
   }
  },
  {
   "cell_type": "markdown",
   "source": [
    "## Создание Треков\n"
   ],
   "metadata": {
    "collapsed": false
   }
  },
  {
   "cell_type": "code",
   "execution_count": 81,
   "outputs": [
    {
     "data": {
      "text/plain": "                                              Событие                Дата  \\\n0   Java и C#. Backend-практикум онлайн от IT-комп... 2021-04-12 18:00:00   \n74  Java и C#. Backend-практикум онлайн от IT-комп... 2021-04-12 18:00:00   \n\n   Для записи на практикум выберите один из треков:  \n0                                                C#  \n74                                             Java  ",
      "text/html": "<div>\n<style scoped>\n    .dataframe tbody tr th:only-of-type {\n        vertical-align: middle;\n    }\n\n    .dataframe tbody tr th {\n        vertical-align: top;\n    }\n\n    .dataframe thead th {\n        text-align: right;\n    }\n</style>\n<table border=\"1\" class=\"dataframe\">\n  <thead>\n    <tr style=\"text-align: right;\">\n      <th></th>\n      <th>Событие</th>\n      <th>Дата</th>\n      <th>Для записи на практикум выберите один из треков:</th>\n    </tr>\n  </thead>\n  <tbody>\n    <tr>\n      <th>0</th>\n      <td>Java и C#. Backend-практикум онлайн от IT-комп...</td>\n      <td>2021-04-12 18:00:00</td>\n      <td>C#</td>\n    </tr>\n    <tr>\n      <th>74</th>\n      <td>Java и C#. Backend-практикум онлайн от IT-комп...</td>\n      <td>2021-04-12 18:00:00</td>\n      <td>Java</td>\n    </tr>\n  </tbody>\n</table>\n</div>"
     },
     "execution_count": 81,
     "metadata": {},
     "output_type": "execute_result"
    }
   ],
   "source": [
    "track_df = df[[event_header, event_date_header, track_name_header]].drop_duplicates()\n",
    "track_df"
   ],
   "metadata": {
    "collapsed": false,
    "pycharm": {
     "name": "#%%\n"
    }
   }
  },
  {
   "cell_type": "code",
   "execution_count": 82,
   "outputs": [],
   "source": [
    "track_df['event_id'] = list(\n",
    "    map(lambda x: Event.objects.filter(title=x[1][event_header], date=x[1][event_date_header])[0].id,\n",
    "        list(track_df.iterrows())))"
   ],
   "metadata": {
    "collapsed": false,
    "pycharm": {
     "name": "#%%\n"
    }
   }
  },
  {
   "cell_type": "code",
   "execution_count": 83,
   "outputs": [],
   "source": [
    "columns_to_rename = {\n",
    "    track_name_header: 'title'\n",
    "}\n",
    "track_df = track_df.rename(columns=columns_to_rename)\n",
    "columns_to_export = [\n",
    "    'title',\n",
    "    'event_id',\n",
    "]"
   ],
   "metadata": {
    "collapsed": false,
    "pycharm": {
     "name": "#%%\n"
    }
   }
  },
  {
   "cell_type": "code",
   "execution_count": 84,
   "outputs": [],
   "source": [
    "track_data = track_df[columns_to_export].to_dict('records')\n",
    "\n"
   ],
   "metadata": {
    "collapsed": false,
    "pycharm": {
     "name": "#%%\n"
    }
   }
  },
  {
   "cell_type": "code",
   "execution_count": 85,
   "outputs": [
    {
     "name": "stdout",
     "output_type": "stream",
     "text": [
      "Трек: C# Событие: Java и C#. Backend-практикум онлайн от IT-компании SimbirSoft 2021-04-12\n",
      "Трек: Java Событие: Java и C#. Backend-практикум онлайн от IT-компании SimbirSoft 2021-04-12\n"
     ]
    }
   ],
   "source": [
    "# TODO: Добавить логику исключения случаев дубликатов\n",
    "add_objects(Track, track_data)"
   ],
   "metadata": {
    "collapsed": false,
    "pycharm": {
     "name": "#%%\n"
    }
   }
  },
  {
   "cell_type": "markdown",
   "source": [
    "## Создание Выбора Треков"
   ],
   "metadata": {
    "collapsed": false
   }
  },
  {
   "cell_type": "code",
   "execution_count": 86,
   "outputs": [
    {
     "data": {
      "text/plain": "                          E-mail  \\\n0              kulaginag@mail.ru   \n1          olegoleg.ru@gmail.com   \n2        chuvashpeople@yandex.ru   \n3             shvorenkov@mail.ru   \n4     abakumova.olga.a@yandex.ru   \n..                           ...   \n145              reddns5@mail.ru   \n146       ilyashekin2811@mail.ru   \n147           strelchm@yandex.ru   \n148  ivan.sibiryakov27@gmail.com   \n149            kav7107@gmail.com   \n\n                                               Событие                Дата  \\\n0    Java и C#. Backend-практикум онлайн от IT-комп... 2021-04-12 18:00:00   \n1    Java и C#. Backend-практикум онлайн от IT-комп... 2021-04-12 18:00:00   \n2    Java и C#. Backend-практикум онлайн от IT-комп... 2021-04-12 18:00:00   \n3    Java и C#. Backend-практикум онлайн от IT-комп... 2021-04-12 18:00:00   \n4    Java и C#. Backend-практикум онлайн от IT-комп... 2021-04-12 18:00:00   \n..                                                 ...                 ...   \n145  Java и C#. Backend-практикум онлайн от IT-комп... 2021-04-12 18:00:00   \n146  Java и C#. Backend-практикум онлайн от IT-комп... 2021-04-12 18:00:00   \n147  Java и C#. Backend-практикум онлайн от IT-комп... 2021-04-12 18:00:00   \n148  Java и C#. Backend-практикум онлайн от IT-комп... 2021-04-12 18:00:00   \n149  Java и C#. Backend-практикум онлайн от IT-комп... 2021-04-12 18:00:00   \n\n    Для записи на практикум выберите один из треков:  \n0                                                 C#  \n1                                                 C#  \n2                                                 C#  \n3                                                 C#  \n4                                                 C#  \n..                                               ...  \n145                                             Java  \n146                                             Java  \n147                                             Java  \n148                                             Java  \n149                                             Java  \n\n[150 rows x 4 columns]",
      "text/html": "<div>\n<style scoped>\n    .dataframe tbody tr th:only-of-type {\n        vertical-align: middle;\n    }\n\n    .dataframe tbody tr th {\n        vertical-align: top;\n    }\n\n    .dataframe thead th {\n        text-align: right;\n    }\n</style>\n<table border=\"1\" class=\"dataframe\">\n  <thead>\n    <tr style=\"text-align: right;\">\n      <th></th>\n      <th>E-mail</th>\n      <th>Событие</th>\n      <th>Дата</th>\n      <th>Для записи на практикум выберите один из треков:</th>\n    </tr>\n  </thead>\n  <tbody>\n    <tr>\n      <th>0</th>\n      <td>kulaginag@mail.ru</td>\n      <td>Java и C#. Backend-практикум онлайн от IT-комп...</td>\n      <td>2021-04-12 18:00:00</td>\n      <td>C#</td>\n    </tr>\n    <tr>\n      <th>1</th>\n      <td>olegoleg.ru@gmail.com</td>\n      <td>Java и C#. Backend-практикум онлайн от IT-комп...</td>\n      <td>2021-04-12 18:00:00</td>\n      <td>C#</td>\n    </tr>\n    <tr>\n      <th>2</th>\n      <td>chuvashpeople@yandex.ru</td>\n      <td>Java и C#. Backend-практикум онлайн от IT-комп...</td>\n      <td>2021-04-12 18:00:00</td>\n      <td>C#</td>\n    </tr>\n    <tr>\n      <th>3</th>\n      <td>shvorenkov@mail.ru</td>\n      <td>Java и C#. Backend-практикум онлайн от IT-комп...</td>\n      <td>2021-04-12 18:00:00</td>\n      <td>C#</td>\n    </tr>\n    <tr>\n      <th>4</th>\n      <td>abakumova.olga.a@yandex.ru</td>\n      <td>Java и C#. Backend-практикум онлайн от IT-комп...</td>\n      <td>2021-04-12 18:00:00</td>\n      <td>C#</td>\n    </tr>\n    <tr>\n      <th>...</th>\n      <td>...</td>\n      <td>...</td>\n      <td>...</td>\n      <td>...</td>\n    </tr>\n    <tr>\n      <th>145</th>\n      <td>reddns5@mail.ru</td>\n      <td>Java и C#. Backend-практикум онлайн от IT-комп...</td>\n      <td>2021-04-12 18:00:00</td>\n      <td>Java</td>\n    </tr>\n    <tr>\n      <th>146</th>\n      <td>ilyashekin2811@mail.ru</td>\n      <td>Java и C#. Backend-практикум онлайн от IT-комп...</td>\n      <td>2021-04-12 18:00:00</td>\n      <td>Java</td>\n    </tr>\n    <tr>\n      <th>147</th>\n      <td>strelchm@yandex.ru</td>\n      <td>Java и C#. Backend-практикум онлайн от IT-комп...</td>\n      <td>2021-04-12 18:00:00</td>\n      <td>Java</td>\n    </tr>\n    <tr>\n      <th>148</th>\n      <td>ivan.sibiryakov27@gmail.com</td>\n      <td>Java и C#. Backend-практикум онлайн от IT-комп...</td>\n      <td>2021-04-12 18:00:00</td>\n      <td>Java</td>\n    </tr>\n    <tr>\n      <th>149</th>\n      <td>kav7107@gmail.com</td>\n      <td>Java и C#. Backend-практикум онлайн от IT-комп...</td>\n      <td>2021-04-12 18:00:00</td>\n      <td>Java</td>\n    </tr>\n  </tbody>\n</table>\n<p>150 rows × 4 columns</p>\n</div>"
     },
     "execution_count": 86,
     "metadata": {},
     "output_type": "execute_result"
    }
   ],
   "source": [
    "# participant_id\n",
    "# track_id\n",
    "track_choices_df = df[[user_email_header, event_header, event_date_header, track_name_header]].drop_duplicates()\n",
    "track_choices_df"
   ],
   "metadata": {
    "collapsed": false,
    "pycharm": {
     "name": "#%%\n"
    }
   }
  },
  {
   "cell_type": "code",
   "execution_count": 86,
   "outputs": [],
   "source": [],
   "metadata": {
    "collapsed": false,
    "pycharm": {
     "name": "#%%\n"
    }
   }
  },
  {
   "cell_type": "code",
   "execution_count": 87,
   "outputs": [
    {
     "data": {
      "text/plain": "[158,\n 159,\n 160,\n 161,\n 162,\n 163,\n 164,\n 165,\n 305,\n 167,\n 168,\n 169,\n 170,\n 171,\n 172,\n 173,\n 174,\n 175,\n 176,\n 177,\n 178,\n 179,\n 180,\n 181,\n 182,\n 183,\n 184,\n 185,\n 186,\n 187,\n 188,\n 189,\n 190,\n 191,\n 192,\n 193,\n 194,\n 195,\n 196,\n 197,\n 198,\n 199,\n 200,\n 201,\n 202,\n 306,\n 204,\n 205,\n 206,\n 207,\n 208,\n 209,\n 210,\n 211,\n 212,\n 213,\n 214,\n 215,\n 216,\n 217,\n 218,\n 219,\n 220,\n 221,\n 222,\n 223,\n 224,\n 225,\n 226,\n 227,\n 228,\n 229,\n 230,\n 231,\n 232,\n 233,\n 234,\n 235,\n 236,\n 237,\n 238,\n 239,\n 177,\n 240,\n 241,\n 242,\n 243,\n 244,\n 245,\n 246,\n 247,\n 248,\n 249,\n 250,\n 251,\n 252,\n 253,\n 254,\n 255,\n 256,\n 257,\n 258,\n 259,\n 260,\n 261,\n 262,\n 263,\n 264,\n 265,\n 266,\n 267,\n 268,\n 269,\n 270,\n 271,\n 272,\n 273,\n 274,\n 275,\n 276,\n 277,\n 278,\n 279,\n 280,\n 281,\n 282,\n 283,\n 284,\n 285,\n 286,\n 287,\n 288,\n 289,\n 220,\n 290,\n 291,\n 292,\n 293,\n 294,\n 295,\n 296,\n 297,\n 298,\n 299,\n 307,\n 229,\n 301,\n 302,\n 303,\n 304]"
     },
     "execution_count": 87,
     "metadata": {},
     "output_type": "execute_result"
    }
   ],
   "source": [
    "participant_ids = []\n",
    "for index, row in track_choices_df.iterrows():\n",
    "    query = User.objects.filter(email=row[user_email_header])\n",
    "    value = query[0].id if query else None\n",
    "    participant_ids.append(value)\n",
    "participant_ids"
   ],
   "metadata": {
    "collapsed": false,
    "pycharm": {
     "name": "#%%\n"
    }
   }
  },
  {
   "cell_type": "code",
   "execution_count": 88,
   "outputs": [
    {
     "data": {
      "text/plain": "                          E-mail  \\\n0              kulaginag@mail.ru   \n1          olegoleg.ru@gmail.com   \n2        chuvashpeople@yandex.ru   \n3             shvorenkov@mail.ru   \n4     abakumova.olga.a@yandex.ru   \n..                           ...   \n145              reddns5@mail.ru   \n146       ilyashekin2811@mail.ru   \n147           strelchm@yandex.ru   \n148  ivan.sibiryakov27@gmail.com   \n149            kav7107@gmail.com   \n\n                                               Событие                Дата  \\\n0    Java и C#. Backend-практикум онлайн от IT-комп... 2021-04-12 18:00:00   \n1    Java и C#. Backend-практикум онлайн от IT-комп... 2021-04-12 18:00:00   \n2    Java и C#. Backend-практикум онлайн от IT-комп... 2021-04-12 18:00:00   \n3    Java и C#. Backend-практикум онлайн от IT-комп... 2021-04-12 18:00:00   \n4    Java и C#. Backend-практикум онлайн от IT-комп... 2021-04-12 18:00:00   \n..                                                 ...                 ...   \n145  Java и C#. Backend-практикум онлайн от IT-комп... 2021-04-12 18:00:00   \n146  Java и C#. Backend-практикум онлайн от IT-комп... 2021-04-12 18:00:00   \n147  Java и C#. Backend-практикум онлайн от IT-комп... 2021-04-12 18:00:00   \n148  Java и C#. Backend-практикум онлайн от IT-комп... 2021-04-12 18:00:00   \n149  Java и C#. Backend-практикум онлайн от IT-комп... 2021-04-12 18:00:00   \n\n    Для записи на практикум выберите один из треков:  participant_id  \n0                                                 C#             158  \n1                                                 C#             159  \n2                                                 C#             160  \n3                                                 C#             161  \n4                                                 C#             162  \n..                                               ...             ...  \n145                                             Java             229  \n146                                             Java             301  \n147                                             Java             302  \n148                                             Java             303  \n149                                             Java             304  \n\n[150 rows x 5 columns]",
      "text/html": "<div>\n<style scoped>\n    .dataframe tbody tr th:only-of-type {\n        vertical-align: middle;\n    }\n\n    .dataframe tbody tr th {\n        vertical-align: top;\n    }\n\n    .dataframe thead th {\n        text-align: right;\n    }\n</style>\n<table border=\"1\" class=\"dataframe\">\n  <thead>\n    <tr style=\"text-align: right;\">\n      <th></th>\n      <th>E-mail</th>\n      <th>Событие</th>\n      <th>Дата</th>\n      <th>Для записи на практикум выберите один из треков:</th>\n      <th>participant_id</th>\n    </tr>\n  </thead>\n  <tbody>\n    <tr>\n      <th>0</th>\n      <td>kulaginag@mail.ru</td>\n      <td>Java и C#. Backend-практикум онлайн от IT-комп...</td>\n      <td>2021-04-12 18:00:00</td>\n      <td>C#</td>\n      <td>158</td>\n    </tr>\n    <tr>\n      <th>1</th>\n      <td>olegoleg.ru@gmail.com</td>\n      <td>Java и C#. Backend-практикум онлайн от IT-комп...</td>\n      <td>2021-04-12 18:00:00</td>\n      <td>C#</td>\n      <td>159</td>\n    </tr>\n    <tr>\n      <th>2</th>\n      <td>chuvashpeople@yandex.ru</td>\n      <td>Java и C#. Backend-практикум онлайн от IT-комп...</td>\n      <td>2021-04-12 18:00:00</td>\n      <td>C#</td>\n      <td>160</td>\n    </tr>\n    <tr>\n      <th>3</th>\n      <td>shvorenkov@mail.ru</td>\n      <td>Java и C#. Backend-практикум онлайн от IT-комп...</td>\n      <td>2021-04-12 18:00:00</td>\n      <td>C#</td>\n      <td>161</td>\n    </tr>\n    <tr>\n      <th>4</th>\n      <td>abakumova.olga.a@yandex.ru</td>\n      <td>Java и C#. Backend-практикум онлайн от IT-комп...</td>\n      <td>2021-04-12 18:00:00</td>\n      <td>C#</td>\n      <td>162</td>\n    </tr>\n    <tr>\n      <th>...</th>\n      <td>...</td>\n      <td>...</td>\n      <td>...</td>\n      <td>...</td>\n      <td>...</td>\n    </tr>\n    <tr>\n      <th>145</th>\n      <td>reddns5@mail.ru</td>\n      <td>Java и C#. Backend-практикум онлайн от IT-комп...</td>\n      <td>2021-04-12 18:00:00</td>\n      <td>Java</td>\n      <td>229</td>\n    </tr>\n    <tr>\n      <th>146</th>\n      <td>ilyashekin2811@mail.ru</td>\n      <td>Java и C#. Backend-практикум онлайн от IT-комп...</td>\n      <td>2021-04-12 18:00:00</td>\n      <td>Java</td>\n      <td>301</td>\n    </tr>\n    <tr>\n      <th>147</th>\n      <td>strelchm@yandex.ru</td>\n      <td>Java и C#. Backend-практикум онлайн от IT-комп...</td>\n      <td>2021-04-12 18:00:00</td>\n      <td>Java</td>\n      <td>302</td>\n    </tr>\n    <tr>\n      <th>148</th>\n      <td>ivan.sibiryakov27@gmail.com</td>\n      <td>Java и C#. Backend-практикум онлайн от IT-комп...</td>\n      <td>2021-04-12 18:00:00</td>\n      <td>Java</td>\n      <td>303</td>\n    </tr>\n    <tr>\n      <th>149</th>\n      <td>kav7107@gmail.com</td>\n      <td>Java и C#. Backend-практикум онлайн от IT-комп...</td>\n      <td>2021-04-12 18:00:00</td>\n      <td>Java</td>\n      <td>304</td>\n    </tr>\n  </tbody>\n</table>\n<p>150 rows × 5 columns</p>\n</div>"
     },
     "execution_count": 88,
     "metadata": {},
     "output_type": "execute_result"
    }
   ],
   "source": [
    "track_choices_df['participant_id'] = participant_ids\n",
    "track_choices_df"
   ],
   "metadata": {
    "collapsed": false,
    "pycharm": {
     "name": "#%%\n"
    }
   }
  },
  {
   "cell_type": "code",
   "execution_count": 89,
   "outputs": [],
   "source": [
    "track_ids = []\n",
    "for index, row in track_choices_df.iterrows():\n",
    "    event_query = Event.objects.filter(title=row[event_header], date=row[event_date_header])\n",
    "    event_id = event_query[0].id if event_query else None\n",
    "    if not event_id:\n",
    "        track_ids.append(None)\n",
    "        continue\n",
    "    track_query = Track.objects.filter(event_id=event_id, title=row[track_name_header])\n",
    "    track_id = track_query[0].id if track_query else None\n",
    "    track_ids.append(track_id)"
   ],
   "metadata": {
    "collapsed": false,
    "pycharm": {
     "name": "#%%\n"
    }
   }
  },
  {
   "cell_type": "code",
   "execution_count": 90,
   "outputs": [
    {
     "data": {
      "text/plain": "                          E-mail  \\\n0              kulaginag@mail.ru   \n1          olegoleg.ru@gmail.com   \n2        chuvashpeople@yandex.ru   \n3             shvorenkov@mail.ru   \n4     abakumova.olga.a@yandex.ru   \n..                           ...   \n145              reddns5@mail.ru   \n146       ilyashekin2811@mail.ru   \n147           strelchm@yandex.ru   \n148  ivan.sibiryakov27@gmail.com   \n149            kav7107@gmail.com   \n\n                                               Событие                Дата  \\\n0    Java и C#. Backend-практикум онлайн от IT-комп... 2021-04-12 18:00:00   \n1    Java и C#. Backend-практикум онлайн от IT-комп... 2021-04-12 18:00:00   \n2    Java и C#. Backend-практикум онлайн от IT-комп... 2021-04-12 18:00:00   \n3    Java и C#. Backend-практикум онлайн от IT-комп... 2021-04-12 18:00:00   \n4    Java и C#. Backend-практикум онлайн от IT-комп... 2021-04-12 18:00:00   \n..                                                 ...                 ...   \n145  Java и C#. Backend-практикум онлайн от IT-комп... 2021-04-12 18:00:00   \n146  Java и C#. Backend-практикум онлайн от IT-комп... 2021-04-12 18:00:00   \n147  Java и C#. Backend-практикум онлайн от IT-комп... 2021-04-12 18:00:00   \n148  Java и C#. Backend-практикум онлайн от IT-комп... 2021-04-12 18:00:00   \n149  Java и C#. Backend-практикум онлайн от IT-комп... 2021-04-12 18:00:00   \n\n    Для записи на практикум выберите один из треков:  participant_id  track_id  \n0                                                 C#             158        11  \n1                                                 C#             159        11  \n2                                                 C#             160        11  \n3                                                 C#             161        11  \n4                                                 C#             162        11  \n..                                               ...             ...       ...  \n145                                             Java             229        12  \n146                                             Java             301        12  \n147                                             Java             302        12  \n148                                             Java             303        12  \n149                                             Java             304        12  \n\n[150 rows x 6 columns]",
      "text/html": "<div>\n<style scoped>\n    .dataframe tbody tr th:only-of-type {\n        vertical-align: middle;\n    }\n\n    .dataframe tbody tr th {\n        vertical-align: top;\n    }\n\n    .dataframe thead th {\n        text-align: right;\n    }\n</style>\n<table border=\"1\" class=\"dataframe\">\n  <thead>\n    <tr style=\"text-align: right;\">\n      <th></th>\n      <th>E-mail</th>\n      <th>Событие</th>\n      <th>Дата</th>\n      <th>Для записи на практикум выберите один из треков:</th>\n      <th>participant_id</th>\n      <th>track_id</th>\n    </tr>\n  </thead>\n  <tbody>\n    <tr>\n      <th>0</th>\n      <td>kulaginag@mail.ru</td>\n      <td>Java и C#. Backend-практикум онлайн от IT-комп...</td>\n      <td>2021-04-12 18:00:00</td>\n      <td>C#</td>\n      <td>158</td>\n      <td>11</td>\n    </tr>\n    <tr>\n      <th>1</th>\n      <td>olegoleg.ru@gmail.com</td>\n      <td>Java и C#. Backend-практикум онлайн от IT-комп...</td>\n      <td>2021-04-12 18:00:00</td>\n      <td>C#</td>\n      <td>159</td>\n      <td>11</td>\n    </tr>\n    <tr>\n      <th>2</th>\n      <td>chuvashpeople@yandex.ru</td>\n      <td>Java и C#. Backend-практикум онлайн от IT-комп...</td>\n      <td>2021-04-12 18:00:00</td>\n      <td>C#</td>\n      <td>160</td>\n      <td>11</td>\n    </tr>\n    <tr>\n      <th>3</th>\n      <td>shvorenkov@mail.ru</td>\n      <td>Java и C#. Backend-практикум онлайн от IT-комп...</td>\n      <td>2021-04-12 18:00:00</td>\n      <td>C#</td>\n      <td>161</td>\n      <td>11</td>\n    </tr>\n    <tr>\n      <th>4</th>\n      <td>abakumova.olga.a@yandex.ru</td>\n      <td>Java и C#. Backend-практикум онлайн от IT-комп...</td>\n      <td>2021-04-12 18:00:00</td>\n      <td>C#</td>\n      <td>162</td>\n      <td>11</td>\n    </tr>\n    <tr>\n      <th>...</th>\n      <td>...</td>\n      <td>...</td>\n      <td>...</td>\n      <td>...</td>\n      <td>...</td>\n      <td>...</td>\n    </tr>\n    <tr>\n      <th>145</th>\n      <td>reddns5@mail.ru</td>\n      <td>Java и C#. Backend-практикум онлайн от IT-комп...</td>\n      <td>2021-04-12 18:00:00</td>\n      <td>Java</td>\n      <td>229</td>\n      <td>12</td>\n    </tr>\n    <tr>\n      <th>146</th>\n      <td>ilyashekin2811@mail.ru</td>\n      <td>Java и C#. Backend-практикум онлайн от IT-комп...</td>\n      <td>2021-04-12 18:00:00</td>\n      <td>Java</td>\n      <td>301</td>\n      <td>12</td>\n    </tr>\n    <tr>\n      <th>147</th>\n      <td>strelchm@yandex.ru</td>\n      <td>Java и C#. Backend-практикум онлайн от IT-комп...</td>\n      <td>2021-04-12 18:00:00</td>\n      <td>Java</td>\n      <td>302</td>\n      <td>12</td>\n    </tr>\n    <tr>\n      <th>148</th>\n      <td>ivan.sibiryakov27@gmail.com</td>\n      <td>Java и C#. Backend-практикум онлайн от IT-комп...</td>\n      <td>2021-04-12 18:00:00</td>\n      <td>Java</td>\n      <td>303</td>\n      <td>12</td>\n    </tr>\n    <tr>\n      <th>149</th>\n      <td>kav7107@gmail.com</td>\n      <td>Java и C#. Backend-практикум онлайн от IT-комп...</td>\n      <td>2021-04-12 18:00:00</td>\n      <td>Java</td>\n      <td>304</td>\n      <td>12</td>\n    </tr>\n  </tbody>\n</table>\n<p>150 rows × 6 columns</p>\n</div>"
     },
     "execution_count": 90,
     "metadata": {},
     "output_type": "execute_result"
    }
   ],
   "source": [
    "track_choices_df['track_id'] = track_ids\n",
    "track_choices_df"
   ],
   "metadata": {
    "collapsed": false,
    "pycharm": {
     "name": "#%%\n"
    }
   }
  },
  {
   "cell_type": "code",
   "execution_count": 91,
   "outputs": [
    {
     "data": {
      "text/plain": "                          E-mail  \\\n0              kulaginag@mail.ru   \n1          olegoleg.ru@gmail.com   \n2        chuvashpeople@yandex.ru   \n3             shvorenkov@mail.ru   \n4     abakumova.olga.a@yandex.ru   \n..                           ...   \n145              reddns5@mail.ru   \n146       ilyashekin2811@mail.ru   \n147           strelchm@yandex.ru   \n148  ivan.sibiryakov27@gmail.com   \n149            kav7107@gmail.com   \n\n                                               Событие                Дата  \\\n0    Java и C#. Backend-практикум онлайн от IT-комп... 2021-04-12 18:00:00   \n1    Java и C#. Backend-практикум онлайн от IT-комп... 2021-04-12 18:00:00   \n2    Java и C#. Backend-практикум онлайн от IT-комп... 2021-04-12 18:00:00   \n3    Java и C#. Backend-практикум онлайн от IT-комп... 2021-04-12 18:00:00   \n4    Java и C#. Backend-практикум онлайн от IT-комп... 2021-04-12 18:00:00   \n..                                                 ...                 ...   \n145  Java и C#. Backend-практикум онлайн от IT-комп... 2021-04-12 18:00:00   \n146  Java и C#. Backend-практикум онлайн от IT-комп... 2021-04-12 18:00:00   \n147  Java и C#. Backend-практикум онлайн от IT-комп... 2021-04-12 18:00:00   \n148  Java и C#. Backend-практикум онлайн от IT-комп... 2021-04-12 18:00:00   \n149  Java и C#. Backend-практикум онлайн от IT-комп... 2021-04-12 18:00:00   \n\n    Для записи на практикум выберите один из треков:  participant_id  \\\n0                                                 C#             158   \n1                                                 C#             159   \n2                                                 C#             160   \n3                                                 C#             161   \n4                                                 C#             162   \n..                                               ...             ...   \n145                                             Java             229   \n146                                             Java             301   \n147                                             Java             302   \n148                                             Java             303   \n149                                             Java             304   \n\n     track_id             status  \n0          11  Зарегистрировался  \n1          11  Зарегистрировался  \n2          11  Зарегистрировался  \n3          11  Зарегистрировался  \n4          11  Зарегистрировался  \n..        ...                ...  \n145        12  Зарегистрировался  \n146        12  Зарегистрировался  \n147        12  Зарегистрировался  \n148        12  Зарегистрировался  \n149        12  Зарегистрировался  \n\n[150 rows x 7 columns]",
      "text/html": "<div>\n<style scoped>\n    .dataframe tbody tr th:only-of-type {\n        vertical-align: middle;\n    }\n\n    .dataframe tbody tr th {\n        vertical-align: top;\n    }\n\n    .dataframe thead th {\n        text-align: right;\n    }\n</style>\n<table border=\"1\" class=\"dataframe\">\n  <thead>\n    <tr style=\"text-align: right;\">\n      <th></th>\n      <th>E-mail</th>\n      <th>Событие</th>\n      <th>Дата</th>\n      <th>Для записи на практикум выберите один из треков:</th>\n      <th>participant_id</th>\n      <th>track_id</th>\n      <th>status</th>\n    </tr>\n  </thead>\n  <tbody>\n    <tr>\n      <th>0</th>\n      <td>kulaginag@mail.ru</td>\n      <td>Java и C#. Backend-практикум онлайн от IT-комп...</td>\n      <td>2021-04-12 18:00:00</td>\n      <td>C#</td>\n      <td>158</td>\n      <td>11</td>\n      <td>Зарегистрировался</td>\n    </tr>\n    <tr>\n      <th>1</th>\n      <td>olegoleg.ru@gmail.com</td>\n      <td>Java и C#. Backend-практикум онлайн от IT-комп...</td>\n      <td>2021-04-12 18:00:00</td>\n      <td>C#</td>\n      <td>159</td>\n      <td>11</td>\n      <td>Зарегистрировался</td>\n    </tr>\n    <tr>\n      <th>2</th>\n      <td>chuvashpeople@yandex.ru</td>\n      <td>Java и C#. Backend-практикум онлайн от IT-комп...</td>\n      <td>2021-04-12 18:00:00</td>\n      <td>C#</td>\n      <td>160</td>\n      <td>11</td>\n      <td>Зарегистрировался</td>\n    </tr>\n    <tr>\n      <th>3</th>\n      <td>shvorenkov@mail.ru</td>\n      <td>Java и C#. Backend-практикум онлайн от IT-комп...</td>\n      <td>2021-04-12 18:00:00</td>\n      <td>C#</td>\n      <td>161</td>\n      <td>11</td>\n      <td>Зарегистрировался</td>\n    </tr>\n    <tr>\n      <th>4</th>\n      <td>abakumova.olga.a@yandex.ru</td>\n      <td>Java и C#. Backend-практикум онлайн от IT-комп...</td>\n      <td>2021-04-12 18:00:00</td>\n      <td>C#</td>\n      <td>162</td>\n      <td>11</td>\n      <td>Зарегистрировался</td>\n    </tr>\n    <tr>\n      <th>...</th>\n      <td>...</td>\n      <td>...</td>\n      <td>...</td>\n      <td>...</td>\n      <td>...</td>\n      <td>...</td>\n      <td>...</td>\n    </tr>\n    <tr>\n      <th>145</th>\n      <td>reddns5@mail.ru</td>\n      <td>Java и C#. Backend-практикум онлайн от IT-комп...</td>\n      <td>2021-04-12 18:00:00</td>\n      <td>Java</td>\n      <td>229</td>\n      <td>12</td>\n      <td>Зарегистрировался</td>\n    </tr>\n    <tr>\n      <th>146</th>\n      <td>ilyashekin2811@mail.ru</td>\n      <td>Java и C#. Backend-практикум онлайн от IT-комп...</td>\n      <td>2021-04-12 18:00:00</td>\n      <td>Java</td>\n      <td>301</td>\n      <td>12</td>\n      <td>Зарегистрировался</td>\n    </tr>\n    <tr>\n      <th>147</th>\n      <td>strelchm@yandex.ru</td>\n      <td>Java и C#. Backend-практикум онлайн от IT-комп...</td>\n      <td>2021-04-12 18:00:00</td>\n      <td>Java</td>\n      <td>302</td>\n      <td>12</td>\n      <td>Зарегистрировался</td>\n    </tr>\n    <tr>\n      <th>148</th>\n      <td>ivan.sibiryakov27@gmail.com</td>\n      <td>Java и C#. Backend-практикум онлайн от IT-комп...</td>\n      <td>2021-04-12 18:00:00</td>\n      <td>Java</td>\n      <td>303</td>\n      <td>12</td>\n      <td>Зарегистрировался</td>\n    </tr>\n    <tr>\n      <th>149</th>\n      <td>kav7107@gmail.com</td>\n      <td>Java и C#. Backend-практикум онлайн от IT-комп...</td>\n      <td>2021-04-12 18:00:00</td>\n      <td>Java</td>\n      <td>304</td>\n      <td>12</td>\n      <td>Зарегистрировался</td>\n    </tr>\n  </tbody>\n</table>\n<p>150 rows × 7 columns</p>\n</div>"
     },
     "execution_count": 91,
     "metadata": {},
     "output_type": "execute_result"
    }
   ],
   "source": [
    "from event_stats_app.models import ParticipantStatus\n",
    "track_choices_df['status'] = ParticipantStatus.REGISTERED\n",
    "track_choices_df"
   ],
   "metadata": {
    "collapsed": false,
    "pycharm": {
     "name": "#%%\n"
    }
   }
  },
  {
   "cell_type": "code",
   "execution_count": 92,
   "outputs": [],
   "source": [
    "track_choices_df = track_choices_df.dropna()"
   ],
   "metadata": {
    "collapsed": false,
    "pycharm": {
     "name": "#%%\n"
    }
   }
  },
  {
   "cell_type": "code",
   "execution_count": 93,
   "outputs": [],
   "source": [
    "# track_choices_df = track_choices_df.rename(columns=columns_to_rename)\n",
    "columns_to_export = [\n",
    "    'participant_id',\n",
    "    'track_id',\n",
    "    'status',\n",
    "]"
   ],
   "metadata": {
    "collapsed": false,
    "pycharm": {
     "name": "#%%\n"
    }
   }
  },
  {
   "cell_type": "code",
   "execution_count": 94,
   "outputs": [
    {
     "data": {
      "text/plain": "[{'participant_id': 158,\n  'track_id': 11,\n  'status': <ParticipantStatus.REGISTERED: 'Зарегистрировался'>},\n {'participant_id': 159,\n  'track_id': 11,\n  'status': <ParticipantStatus.REGISTERED: 'Зарегистрировался'>},\n {'participant_id': 160,\n  'track_id': 11,\n  'status': <ParticipantStatus.REGISTERED: 'Зарегистрировался'>},\n {'participant_id': 161,\n  'track_id': 11,\n  'status': <ParticipantStatus.REGISTERED: 'Зарегистрировался'>},\n {'participant_id': 162,\n  'track_id': 11,\n  'status': <ParticipantStatus.REGISTERED: 'Зарегистрировался'>},\n {'participant_id': 163,\n  'track_id': 11,\n  'status': <ParticipantStatus.REGISTERED: 'Зарегистрировался'>},\n {'participant_id': 164,\n  'track_id': 11,\n  'status': <ParticipantStatus.REGISTERED: 'Зарегистрировался'>},\n {'participant_id': 165,\n  'track_id': 11,\n  'status': <ParticipantStatus.REGISTERED: 'Зарегистрировался'>},\n {'participant_id': 305,\n  'track_id': 11,\n  'status': <ParticipantStatus.REGISTERED: 'Зарегистрировался'>},\n {'participant_id': 167,\n  'track_id': 11,\n  'status': <ParticipantStatus.REGISTERED: 'Зарегистрировался'>},\n {'participant_id': 168,\n  'track_id': 11,\n  'status': <ParticipantStatus.REGISTERED: 'Зарегистрировался'>},\n {'participant_id': 169,\n  'track_id': 11,\n  'status': <ParticipantStatus.REGISTERED: 'Зарегистрировался'>},\n {'participant_id': 170,\n  'track_id': 11,\n  'status': <ParticipantStatus.REGISTERED: 'Зарегистрировался'>},\n {'participant_id': 171,\n  'track_id': 11,\n  'status': <ParticipantStatus.REGISTERED: 'Зарегистрировался'>},\n {'participant_id': 172,\n  'track_id': 11,\n  'status': <ParticipantStatus.REGISTERED: 'Зарегистрировался'>},\n {'participant_id': 173,\n  'track_id': 11,\n  'status': <ParticipantStatus.REGISTERED: 'Зарегистрировался'>},\n {'participant_id': 174,\n  'track_id': 11,\n  'status': <ParticipantStatus.REGISTERED: 'Зарегистрировался'>},\n {'participant_id': 175,\n  'track_id': 11,\n  'status': <ParticipantStatus.REGISTERED: 'Зарегистрировался'>},\n {'participant_id': 176,\n  'track_id': 11,\n  'status': <ParticipantStatus.REGISTERED: 'Зарегистрировался'>},\n {'participant_id': 177,\n  'track_id': 11,\n  'status': <ParticipantStatus.REGISTERED: 'Зарегистрировался'>},\n {'participant_id': 178,\n  'track_id': 11,\n  'status': <ParticipantStatus.REGISTERED: 'Зарегистрировался'>},\n {'participant_id': 179,\n  'track_id': 11,\n  'status': <ParticipantStatus.REGISTERED: 'Зарегистрировался'>},\n {'participant_id': 180,\n  'track_id': 11,\n  'status': <ParticipantStatus.REGISTERED: 'Зарегистрировался'>},\n {'participant_id': 181,\n  'track_id': 11,\n  'status': <ParticipantStatus.REGISTERED: 'Зарегистрировался'>},\n {'participant_id': 182,\n  'track_id': 11,\n  'status': <ParticipantStatus.REGISTERED: 'Зарегистрировался'>},\n {'participant_id': 183,\n  'track_id': 11,\n  'status': <ParticipantStatus.REGISTERED: 'Зарегистрировался'>},\n {'participant_id': 184,\n  'track_id': 11,\n  'status': <ParticipantStatus.REGISTERED: 'Зарегистрировался'>},\n {'participant_id': 185,\n  'track_id': 11,\n  'status': <ParticipantStatus.REGISTERED: 'Зарегистрировался'>},\n {'participant_id': 186,\n  'track_id': 11,\n  'status': <ParticipantStatus.REGISTERED: 'Зарегистрировался'>},\n {'participant_id': 187,\n  'track_id': 11,\n  'status': <ParticipantStatus.REGISTERED: 'Зарегистрировался'>},\n {'participant_id': 188,\n  'track_id': 11,\n  'status': <ParticipantStatus.REGISTERED: 'Зарегистрировался'>},\n {'participant_id': 189,\n  'track_id': 11,\n  'status': <ParticipantStatus.REGISTERED: 'Зарегистрировался'>},\n {'participant_id': 190,\n  'track_id': 11,\n  'status': <ParticipantStatus.REGISTERED: 'Зарегистрировался'>},\n {'participant_id': 191,\n  'track_id': 11,\n  'status': <ParticipantStatus.REGISTERED: 'Зарегистрировался'>},\n {'participant_id': 192,\n  'track_id': 11,\n  'status': <ParticipantStatus.REGISTERED: 'Зарегистрировался'>},\n {'participant_id': 193,\n  'track_id': 11,\n  'status': <ParticipantStatus.REGISTERED: 'Зарегистрировался'>},\n {'participant_id': 194,\n  'track_id': 11,\n  'status': <ParticipantStatus.REGISTERED: 'Зарегистрировался'>},\n {'participant_id': 195,\n  'track_id': 11,\n  'status': <ParticipantStatus.REGISTERED: 'Зарегистрировался'>},\n {'participant_id': 196,\n  'track_id': 11,\n  'status': <ParticipantStatus.REGISTERED: 'Зарегистрировался'>},\n {'participant_id': 197,\n  'track_id': 11,\n  'status': <ParticipantStatus.REGISTERED: 'Зарегистрировался'>},\n {'participant_id': 198,\n  'track_id': 11,\n  'status': <ParticipantStatus.REGISTERED: 'Зарегистрировался'>},\n {'participant_id': 199,\n  'track_id': 11,\n  'status': <ParticipantStatus.REGISTERED: 'Зарегистрировался'>},\n {'participant_id': 200,\n  'track_id': 11,\n  'status': <ParticipantStatus.REGISTERED: 'Зарегистрировался'>},\n {'participant_id': 201,\n  'track_id': 11,\n  'status': <ParticipantStatus.REGISTERED: 'Зарегистрировался'>},\n {'participant_id': 202,\n  'track_id': 11,\n  'status': <ParticipantStatus.REGISTERED: 'Зарегистрировался'>},\n {'participant_id': 306,\n  'track_id': 11,\n  'status': <ParticipantStatus.REGISTERED: 'Зарегистрировался'>},\n {'participant_id': 204,\n  'track_id': 11,\n  'status': <ParticipantStatus.REGISTERED: 'Зарегистрировался'>},\n {'participant_id': 205,\n  'track_id': 11,\n  'status': <ParticipantStatus.REGISTERED: 'Зарегистрировался'>},\n {'participant_id': 206,\n  'track_id': 11,\n  'status': <ParticipantStatus.REGISTERED: 'Зарегистрировался'>},\n {'participant_id': 207,\n  'track_id': 11,\n  'status': <ParticipantStatus.REGISTERED: 'Зарегистрировался'>},\n {'participant_id': 208,\n  'track_id': 11,\n  'status': <ParticipantStatus.REGISTERED: 'Зарегистрировался'>},\n {'participant_id': 209,\n  'track_id': 11,\n  'status': <ParticipantStatus.REGISTERED: 'Зарегистрировался'>},\n {'participant_id': 210,\n  'track_id': 11,\n  'status': <ParticipantStatus.REGISTERED: 'Зарегистрировался'>},\n {'participant_id': 211,\n  'track_id': 11,\n  'status': <ParticipantStatus.REGISTERED: 'Зарегистрировался'>},\n {'participant_id': 212,\n  'track_id': 11,\n  'status': <ParticipantStatus.REGISTERED: 'Зарегистрировался'>},\n {'participant_id': 213,\n  'track_id': 11,\n  'status': <ParticipantStatus.REGISTERED: 'Зарегистрировался'>},\n {'participant_id': 214,\n  'track_id': 11,\n  'status': <ParticipantStatus.REGISTERED: 'Зарегистрировался'>},\n {'participant_id': 215,\n  'track_id': 11,\n  'status': <ParticipantStatus.REGISTERED: 'Зарегистрировался'>},\n {'participant_id': 216,\n  'track_id': 11,\n  'status': <ParticipantStatus.REGISTERED: 'Зарегистрировался'>},\n {'participant_id': 217,\n  'track_id': 11,\n  'status': <ParticipantStatus.REGISTERED: 'Зарегистрировался'>},\n {'participant_id': 218,\n  'track_id': 11,\n  'status': <ParticipantStatus.REGISTERED: 'Зарегистрировался'>},\n {'participant_id': 219,\n  'track_id': 11,\n  'status': <ParticipantStatus.REGISTERED: 'Зарегистрировался'>},\n {'participant_id': 220,\n  'track_id': 11,\n  'status': <ParticipantStatus.REGISTERED: 'Зарегистрировался'>},\n {'participant_id': 221,\n  'track_id': 11,\n  'status': <ParticipantStatus.REGISTERED: 'Зарегистрировался'>},\n {'participant_id': 222,\n  'track_id': 11,\n  'status': <ParticipantStatus.REGISTERED: 'Зарегистрировался'>},\n {'participant_id': 223,\n  'track_id': 11,\n  'status': <ParticipantStatus.REGISTERED: 'Зарегистрировался'>},\n {'participant_id': 224,\n  'track_id': 11,\n  'status': <ParticipantStatus.REGISTERED: 'Зарегистрировался'>},\n {'participant_id': 225,\n  'track_id': 11,\n  'status': <ParticipantStatus.REGISTERED: 'Зарегистрировался'>},\n {'participant_id': 226,\n  'track_id': 11,\n  'status': <ParticipantStatus.REGISTERED: 'Зарегистрировался'>},\n {'participant_id': 227,\n  'track_id': 11,\n  'status': <ParticipantStatus.REGISTERED: 'Зарегистрировался'>},\n {'participant_id': 228,\n  'track_id': 11,\n  'status': <ParticipantStatus.REGISTERED: 'Зарегистрировался'>},\n {'participant_id': 229,\n  'track_id': 11,\n  'status': <ParticipantStatus.REGISTERED: 'Зарегистрировался'>},\n {'participant_id': 230,\n  'track_id': 11,\n  'status': <ParticipantStatus.REGISTERED: 'Зарегистрировался'>},\n {'participant_id': 231,\n  'track_id': 11,\n  'status': <ParticipantStatus.REGISTERED: 'Зарегистрировался'>},\n {'participant_id': 232,\n  'track_id': 12,\n  'status': <ParticipantStatus.REGISTERED: 'Зарегистрировался'>},\n {'participant_id': 233,\n  'track_id': 12,\n  'status': <ParticipantStatus.REGISTERED: 'Зарегистрировался'>},\n {'participant_id': 234,\n  'track_id': 12,\n  'status': <ParticipantStatus.REGISTERED: 'Зарегистрировался'>},\n {'participant_id': 235,\n  'track_id': 12,\n  'status': <ParticipantStatus.REGISTERED: 'Зарегистрировался'>},\n {'participant_id': 236,\n  'track_id': 12,\n  'status': <ParticipantStatus.REGISTERED: 'Зарегистрировался'>},\n {'participant_id': 237,\n  'track_id': 12,\n  'status': <ParticipantStatus.REGISTERED: 'Зарегистрировался'>},\n {'participant_id': 238,\n  'track_id': 12,\n  'status': <ParticipantStatus.REGISTERED: 'Зарегистрировался'>},\n {'participant_id': 239,\n  'track_id': 12,\n  'status': <ParticipantStatus.REGISTERED: 'Зарегистрировался'>},\n {'participant_id': 177,\n  'track_id': 12,\n  'status': <ParticipantStatus.REGISTERED: 'Зарегистрировался'>},\n {'participant_id': 240,\n  'track_id': 12,\n  'status': <ParticipantStatus.REGISTERED: 'Зарегистрировался'>},\n {'participant_id': 241,\n  'track_id': 12,\n  'status': <ParticipantStatus.REGISTERED: 'Зарегистрировался'>},\n {'participant_id': 242,\n  'track_id': 12,\n  'status': <ParticipantStatus.REGISTERED: 'Зарегистрировался'>},\n {'participant_id': 243,\n  'track_id': 12,\n  'status': <ParticipantStatus.REGISTERED: 'Зарегистрировался'>},\n {'participant_id': 244,\n  'track_id': 12,\n  'status': <ParticipantStatus.REGISTERED: 'Зарегистрировался'>},\n {'participant_id': 245,\n  'track_id': 12,\n  'status': <ParticipantStatus.REGISTERED: 'Зарегистрировался'>},\n {'participant_id': 246,\n  'track_id': 12,\n  'status': <ParticipantStatus.REGISTERED: 'Зарегистрировался'>},\n {'participant_id': 247,\n  'track_id': 12,\n  'status': <ParticipantStatus.REGISTERED: 'Зарегистрировался'>},\n {'participant_id': 248,\n  'track_id': 12,\n  'status': <ParticipantStatus.REGISTERED: 'Зарегистрировался'>},\n {'participant_id': 249,\n  'track_id': 12,\n  'status': <ParticipantStatus.REGISTERED: 'Зарегистрировался'>},\n {'participant_id': 250,\n  'track_id': 12,\n  'status': <ParticipantStatus.REGISTERED: 'Зарегистрировался'>},\n {'participant_id': 251,\n  'track_id': 12,\n  'status': <ParticipantStatus.REGISTERED: 'Зарегистрировался'>},\n {'participant_id': 252,\n  'track_id': 12,\n  'status': <ParticipantStatus.REGISTERED: 'Зарегистрировался'>},\n {'participant_id': 253,\n  'track_id': 12,\n  'status': <ParticipantStatus.REGISTERED: 'Зарегистрировался'>},\n {'participant_id': 254,\n  'track_id': 12,\n  'status': <ParticipantStatus.REGISTERED: 'Зарегистрировался'>},\n {'participant_id': 255,\n  'track_id': 12,\n  'status': <ParticipantStatus.REGISTERED: 'Зарегистрировался'>},\n {'participant_id': 256,\n  'track_id': 12,\n  'status': <ParticipantStatus.REGISTERED: 'Зарегистрировался'>},\n {'participant_id': 257,\n  'track_id': 12,\n  'status': <ParticipantStatus.REGISTERED: 'Зарегистрировался'>},\n {'participant_id': 258,\n  'track_id': 12,\n  'status': <ParticipantStatus.REGISTERED: 'Зарегистрировался'>},\n {'participant_id': 259,\n  'track_id': 12,\n  'status': <ParticipantStatus.REGISTERED: 'Зарегистрировался'>},\n {'participant_id': 260,\n  'track_id': 12,\n  'status': <ParticipantStatus.REGISTERED: 'Зарегистрировался'>},\n {'participant_id': 261,\n  'track_id': 12,\n  'status': <ParticipantStatus.REGISTERED: 'Зарегистрировался'>},\n {'participant_id': 262,\n  'track_id': 12,\n  'status': <ParticipantStatus.REGISTERED: 'Зарегистрировался'>},\n {'participant_id': 263,\n  'track_id': 12,\n  'status': <ParticipantStatus.REGISTERED: 'Зарегистрировался'>},\n {'participant_id': 264,\n  'track_id': 12,\n  'status': <ParticipantStatus.REGISTERED: 'Зарегистрировался'>},\n {'participant_id': 265,\n  'track_id': 12,\n  'status': <ParticipantStatus.REGISTERED: 'Зарегистрировался'>},\n {'participant_id': 266,\n  'track_id': 12,\n  'status': <ParticipantStatus.REGISTERED: 'Зарегистрировался'>},\n {'participant_id': 267,\n  'track_id': 12,\n  'status': <ParticipantStatus.REGISTERED: 'Зарегистрировался'>},\n {'participant_id': 268,\n  'track_id': 12,\n  'status': <ParticipantStatus.REGISTERED: 'Зарегистрировался'>},\n {'participant_id': 269,\n  'track_id': 12,\n  'status': <ParticipantStatus.REGISTERED: 'Зарегистрировался'>},\n {'participant_id': 270,\n  'track_id': 12,\n  'status': <ParticipantStatus.REGISTERED: 'Зарегистрировался'>},\n {'participant_id': 271,\n  'track_id': 12,\n  'status': <ParticipantStatus.REGISTERED: 'Зарегистрировался'>},\n {'participant_id': 272,\n  'track_id': 12,\n  'status': <ParticipantStatus.REGISTERED: 'Зарегистрировался'>},\n {'participant_id': 273,\n  'track_id': 12,\n  'status': <ParticipantStatus.REGISTERED: 'Зарегистрировался'>},\n {'participant_id': 274,\n  'track_id': 12,\n  'status': <ParticipantStatus.REGISTERED: 'Зарегистрировался'>},\n {'participant_id': 275,\n  'track_id': 12,\n  'status': <ParticipantStatus.REGISTERED: 'Зарегистрировался'>},\n {'participant_id': 276,\n  'track_id': 12,\n  'status': <ParticipantStatus.REGISTERED: 'Зарегистрировался'>},\n {'participant_id': 277,\n  'track_id': 12,\n  'status': <ParticipantStatus.REGISTERED: 'Зарегистрировался'>},\n {'participant_id': 278,\n  'track_id': 12,\n  'status': <ParticipantStatus.REGISTERED: 'Зарегистрировался'>},\n {'participant_id': 279,\n  'track_id': 12,\n  'status': <ParticipantStatus.REGISTERED: 'Зарегистрировался'>},\n {'participant_id': 280,\n  'track_id': 12,\n  'status': <ParticipantStatus.REGISTERED: 'Зарегистрировался'>},\n {'participant_id': 281,\n  'track_id': 12,\n  'status': <ParticipantStatus.REGISTERED: 'Зарегистрировался'>},\n {'participant_id': 282,\n  'track_id': 12,\n  'status': <ParticipantStatus.REGISTERED: 'Зарегистрировался'>},\n {'participant_id': 283,\n  'track_id': 12,\n  'status': <ParticipantStatus.REGISTERED: 'Зарегистрировался'>},\n {'participant_id': 284,\n  'track_id': 12,\n  'status': <ParticipantStatus.REGISTERED: 'Зарегистрировался'>},\n {'participant_id': 285,\n  'track_id': 12,\n  'status': <ParticipantStatus.REGISTERED: 'Зарегистрировался'>},\n {'participant_id': 286,\n  'track_id': 12,\n  'status': <ParticipantStatus.REGISTERED: 'Зарегистрировался'>},\n {'participant_id': 287,\n  'track_id': 12,\n  'status': <ParticipantStatus.REGISTERED: 'Зарегистрировался'>},\n {'participant_id': 288,\n  'track_id': 12,\n  'status': <ParticipantStatus.REGISTERED: 'Зарегистрировался'>},\n {'participant_id': 289,\n  'track_id': 12,\n  'status': <ParticipantStatus.REGISTERED: 'Зарегистрировался'>},\n {'participant_id': 220,\n  'track_id': 12,\n  'status': <ParticipantStatus.REGISTERED: 'Зарегистрировался'>},\n {'participant_id': 290,\n  'track_id': 12,\n  'status': <ParticipantStatus.REGISTERED: 'Зарегистрировался'>},\n {'participant_id': 291,\n  'track_id': 12,\n  'status': <ParticipantStatus.REGISTERED: 'Зарегистрировался'>},\n {'participant_id': 292,\n  'track_id': 12,\n  'status': <ParticipantStatus.REGISTERED: 'Зарегистрировался'>},\n {'participant_id': 293,\n  'track_id': 12,\n  'status': <ParticipantStatus.REGISTERED: 'Зарегистрировался'>},\n {'participant_id': 294,\n  'track_id': 12,\n  'status': <ParticipantStatus.REGISTERED: 'Зарегистрировался'>},\n {'participant_id': 295,\n  'track_id': 12,\n  'status': <ParticipantStatus.REGISTERED: 'Зарегистрировался'>},\n {'participant_id': 296,\n  'track_id': 12,\n  'status': <ParticipantStatus.REGISTERED: 'Зарегистрировался'>},\n {'participant_id': 297,\n  'track_id': 12,\n  'status': <ParticipantStatus.REGISTERED: 'Зарегистрировался'>},\n {'participant_id': 298,\n  'track_id': 12,\n  'status': <ParticipantStatus.REGISTERED: 'Зарегистрировался'>},\n {'participant_id': 299,\n  'track_id': 12,\n  'status': <ParticipantStatus.REGISTERED: 'Зарегистрировался'>},\n {'participant_id': 307,\n  'track_id': 12,\n  'status': <ParticipantStatus.REGISTERED: 'Зарегистрировался'>},\n {'participant_id': 229,\n  'track_id': 12,\n  'status': <ParticipantStatus.REGISTERED: 'Зарегистрировался'>},\n {'participant_id': 301,\n  'track_id': 12,\n  'status': <ParticipantStatus.REGISTERED: 'Зарегистрировался'>},\n {'participant_id': 302,\n  'track_id': 12,\n  'status': <ParticipantStatus.REGISTERED: 'Зарегистрировался'>},\n {'participant_id': 303,\n  'track_id': 12,\n  'status': <ParticipantStatus.REGISTERED: 'Зарегистрировался'>},\n {'participant_id': 304,\n  'track_id': 12,\n  'status': <ParticipantStatus.REGISTERED: 'Зарегистрировался'>}]"
     },
     "execution_count": 94,
     "metadata": {},
     "output_type": "execute_result"
    }
   ],
   "source": [
    "track_choices_data = track_choices_df[columns_to_export].to_dict('records')\n",
    "track_choices_data"
   ],
   "metadata": {
    "collapsed": false,
    "pycharm": {
     "name": "#%%\n"
    }
   }
  },
  {
   "cell_type": "code",
   "execution_count": 96,
   "outputs": [
    {
     "name": "stdout",
     "output_type": "stream",
     "text": [
      "kulaginag@mail.ru Трек: C# Событие: Java и C#. Backend-практикум онлайн от IT-компании SimbirSoft 2021-04-12\n",
      "olegoleg.ru@gmail.com Трек: C# Событие: Java и C#. Backend-практикум онлайн от IT-компании SimbirSoft 2021-04-12\n",
      "chuvashpeople@yandex.ru Трек: C# Событие: Java и C#. Backend-практикум онлайн от IT-компании SimbirSoft 2021-04-12\n",
      "shvorenkov@mail.ru Трек: C# Событие: Java и C#. Backend-практикум онлайн от IT-компании SimbirSoft 2021-04-12\n",
      "abakumova.olga.a@yandex.ru Трек: C# Событие: Java и C#. Backend-практикум онлайн от IT-компании SimbirSoft 2021-04-12\n",
      "e.svaeva1@gmail.com Трек: C# Событие: Java и C#. Backend-практикум онлайн от IT-компании SimbirSoft 2021-04-12\n",
      "mshigapov13@gmail.com Трек: C# Событие: Java и C#. Backend-практикум онлайн от IT-компании SimbirSoft 2021-04-12\n",
      "v.yumshanov@mail.ru Трек: C# Событие: Java и C#. Backend-практикум онлайн от IT-компании SimbirSoft 2021-04-12\n",
      "linkorvb1@rambler.ru Трек: C# Событие: Java и C#. Backend-практикум онлайн от IT-компании SimbirSoft 2021-04-12\n",
      "Esoft@mail.ru Трек: C# Событие: Java и C#. Backend-практикум онлайн от IT-компании SimbirSoft 2021-04-12\n",
      "svigolubev@gmsil.com Трек: C# Событие: Java и C#. Backend-практикум онлайн от IT-компании SimbirSoft 2021-04-12\n",
      "saiaktelike@gmail.com Трек: C# Событие: Java и C#. Backend-практикум онлайн от IT-компании SimbirSoft 2021-04-12\n",
      "Popckov.slav@yandex.ru Трек: C# Событие: Java и C#. Backend-практикум онлайн от IT-компании SimbirSoft 2021-04-12\n",
      "luck99bahek@mail.ru Трек: C# Событие: Java и C#. Backend-практикум онлайн от IT-компании SimbirSoft 2021-04-12\n",
      "zma2002@mail.ru Трек: C# Событие: Java и C#. Backend-практикум онлайн от IT-компании SimbirSoft 2021-04-12\n",
      "shdaownik@mail.ru Трек: C# Событие: Java и C#. Backend-практикум онлайн от IT-компании SimbirSoft 2021-04-12\n",
      "Beluhina1999@mail.ru Трек: C# Событие: Java и C#. Backend-практикум онлайн от IT-компании SimbirSoft 2021-04-12\n",
      "rostislav.denisovich@yandex.ru Трек: C# Событие: Java и C#. Backend-практикум онлайн от IT-компании SimbirSoft 2021-04-12\n",
      "shakhmatov0202@mail.ru Трек: C# Событие: Java и C#. Backend-практикум онлайн от IT-компании SimbirSoft 2021-04-12\n",
      "aigul.sibgatulli@mail.ru Трек: C# Событие: Java и C#. Backend-практикум онлайн от IT-компании SimbirSoft 2021-04-12\n",
      "upiter82@list.ru Трек: C# Событие: Java и C#. Backend-практикум онлайн от IT-компании SimbirSoft 2021-04-12\n",
      "iamdabdya@gmail.com Трек: C# Событие: Java и C#. Backend-практикум онлайн от IT-компании SimbirSoft 2021-04-12\n",
      "cool.niyazik12@yandex.ru Трек: C# Событие: Java и C#. Backend-практикум онлайн от IT-компании SimbirSoft 2021-04-12\n",
      "m_garanin@mail.ru Трек: C# Событие: Java и C#. Backend-практикум онлайн от IT-компании SimbirSoft 2021-04-12\n",
      "aleksandra.grid2012@gmail.com Трек: C# Событие: Java и C#. Backend-практикум онлайн от IT-компании SimbirSoft 2021-04-12\n",
      "igor.koloytanov@gmail.com Трек: C# Событие: Java и C#. Backend-практикум онлайн от IT-компании SimbirSoft 2021-04-12\n",
      "Feel_goody@mail.ru Трек: C# Событие: Java и C#. Backend-практикум онлайн от IT-компании SimbirSoft 2021-04-12\n",
      "zizus89@gmail.com Трек: C# Событие: Java и C#. Backend-практикум онлайн от IT-компании SimbirSoft 2021-04-12\n",
      "alexhause1@mail.ru Трек: C# Событие: Java и C#. Backend-практикум онлайн от IT-компании SimbirSoft 2021-04-12\n",
      "svigolubev@gmail.com Трек: C# Событие: Java и C#. Backend-практикум онлайн от IT-компании SimbirSoft 2021-04-12\n",
      "reven.s5657@mail.ru Трек: C# Событие: Java и C#. Backend-практикум онлайн от IT-компании SimbirSoft 2021-04-12\n",
      "k-konnov@list.ru Трек: C# Событие: Java и C#. Backend-практикум онлайн от IT-компании SimbirSoft 2021-04-12\n",
      "ffgh04@gmail.com Трек: C# Событие: Java и C#. Backend-практикум онлайн от IT-компании SimbirSoft 2021-04-12\n",
      "artyom.chertilin@gmail.com Трек: C# Событие: Java и C#. Backend-практикум онлайн от IT-компании SimbirSoft 2021-04-12\n",
      "Denzil94@mail.ru Трек: C# Событие: Java и C#. Backend-практикум онлайн от IT-компании SimbirSoft 2021-04-12\n",
      "aizhs1@gmail.com Трек: C# Событие: Java и C#. Backend-практикум онлайн от IT-компании SimbirSoft 2021-04-12\n",
      "e.kondratjev@gmail.com Трек: C# Событие: Java и C#. Backend-практикум онлайн от IT-компании SimbirSoft 2021-04-12\n",
      "ayrat.mt@gmail.com Трек: C# Событие: Java и C#. Backend-практикум онлайн от IT-компании SimbirSoft 2021-04-12\n",
      "invsework@gmail.com Трек: C# Событие: Java и C#. Backend-практикум онлайн от IT-компании SimbirSoft 2021-04-12\n",
      "rylov1999@mail.ru Трек: C# Событие: Java и C#. Backend-практикум онлайн от IT-компании SimbirSoft 2021-04-12\n",
      "a.a.kaltenberg@yandex.ru Трек: C# Событие: Java и C#. Backend-практикум онлайн от IT-компании SimbirSoft 2021-04-12\n",
      "dima.stepin10@mail.ru Трек: C# Событие: Java и C#. Backend-практикум онлайн от IT-компании SimbirSoft 2021-04-12\n",
      "slepov.ep@gmail.com Трек: C# Событие: Java и C#. Backend-практикум онлайн от IT-компании SimbirSoft 2021-04-12\n",
      "svyat-linev@yandex.ru Трек: C# Событие: Java и C#. Backend-практикум онлайн от IT-компании SimbirSoft 2021-04-12\n",
      "mgalanin446@gmail.com Трек: C# Событие: Java и C#. Backend-практикум онлайн от IT-компании SimbirSoft 2021-04-12\n",
      "leolevin91@gmail.com Трек: C# Событие: Java и C#. Backend-практикум онлайн от IT-компании SimbirSoft 2021-04-12\n",
      "myfunnyrabbit@icloud.com Трек: C# Событие: Java и C#. Backend-практикум онлайн от IT-компании SimbirSoft 2021-04-12\n",
      "sonya.chern@gmail.com Трек: C# Событие: Java и C#. Backend-практикум онлайн от IT-компании SimbirSoft 2021-04-12\n",
      "Gotour.saratov@yandex.ru Трек: C# Событие: Java и C#. Backend-практикум онлайн от IT-компании SimbirSoft 2021-04-12\n",
      "tim_yalovoy@mail.ru Трек: C# Событие: Java и C#. Backend-практикум онлайн от IT-компании SimbirSoft 2021-04-12\n",
      "grant.kesiyan@mail.ru Трек: C# Событие: Java и C#. Backend-практикум онлайн от IT-компании SimbirSoft 2021-04-12\n",
      "vskirilov2015@yandex.ru Трек: C# Событие: Java и C#. Backend-практикум онлайн от IT-компании SimbirSoft 2021-04-12\n",
      "rybnikovv@list.ru Трек: C# Событие: Java и C#. Backend-практикум онлайн от IT-компании SimbirSoft 2021-04-12\n",
      "AMokrev@gmail.com Трек: C# Событие: Java и C#. Backend-практикум онлайн от IT-компании SimbirSoft 2021-04-12\n",
      "neutronization@gmail.com Трек: C# Событие: Java и C#. Backend-практикум онлайн от IT-компании SimbirSoft 2021-04-12\n",
      "slade.wilson.1980@mail.ru Трек: C# Событие: Java и C#. Backend-практикум онлайн от IT-компании SimbirSoft 2021-04-12\n",
      "passmirgeb@gmail.com Трек: C# Событие: Java и C#. Backend-практикум онлайн от IT-компании SimbirSoft 2021-04-12\n",
      "darknesoft@gmail.com Трек: C# Событие: Java и C#. Backend-практикум онлайн от IT-компании SimbirSoft 2021-04-12\n",
      "nikita.ptashckin@yandex.ru Трек: C# Событие: Java и C#. Backend-практикум онлайн от IT-компании SimbirSoft 2021-04-12\n",
      "alternative6556@gmail.com Трек: C# Событие: Java и C#. Backend-практикум онлайн от IT-компании SimbirSoft 2021-04-12\n",
      "hm47web@gmail.com Трек: C# Событие: Java и C#. Backend-практикум онлайн от IT-компании SimbirSoft 2021-04-12\n",
      "aleksej_shabalin_00@mail.ru Трек: C# Событие: Java и C#. Backend-практикум онлайн от IT-компании SimbirSoft 2021-04-12\n",
      "taclipoka@gmail.com Трек: C# Событие: Java и C#. Backend-практикум онлайн от IT-компании SimbirSoft 2021-04-12\n",
      "Stratonov89@gmail.com Трек: C# Событие: Java и C#. Backend-практикум онлайн от IT-компании SimbirSoft 2021-04-12\n",
      "ars4184@yandex.ru Трек: C# Событие: Java и C#. Backend-практикум онлайн от IT-компании SimbirSoft 2021-04-12\n",
      "folcon2001@mail.ru Трек: C# Событие: Java и C#. Backend-практикум онлайн от IT-компании SimbirSoft 2021-04-12\n",
      "siegfried1997@gmail.com Трек: C# Событие: Java и C#. Backend-практикум онлайн от IT-компании SimbirSoft 2021-04-12\n",
      "niksut2000@mail.ru Трек: C# Событие: Java и C#. Backend-практикум онлайн от IT-компании SimbirSoft 2021-04-12\n",
      "os.5-9@yandex.ru Трек: C# Событие: Java и C#. Backend-практикум онлайн от IT-компании SimbirSoft 2021-04-12\n",
      "elektrotehnikka@yandex.ru Трек: C# Событие: Java и C#. Backend-практикум онлайн от IT-компании SimbirSoft 2021-04-12\n",
      "Darkzarl@yandex.ru Трек: C# Событие: Java и C#. Backend-практикум онлайн от IT-компании SimbirSoft 2021-04-12\n",
      "reddns5@mail.ru Трек: C# Событие: Java и C#. Backend-практикум онлайн от IT-компании SimbirSoft 2021-04-12\n",
      "Homer57@inbox.ru Трек: C# Событие: Java и C#. Backend-практикум онлайн от IT-компании SimbirSoft 2021-04-12\n",
      "domitorii.filimonov@gmail.com Трек: C# Событие: Java и C#. Backend-практикум онлайн от IT-компании SimbirSoft 2021-04-12\n",
      "hil-diana@mail.ru Трек: Java Событие: Java и C#. Backend-практикум онлайн от IT-компании SimbirSoft 2021-04-12\n",
      "Tarha2886@ya.ru Трек: Java Событие: Java и C#. Backend-практикум онлайн от IT-компании SimbirSoft 2021-04-12\n",
      "Srgvnn@bk.ru Трек: Java Событие: Java и C#. Backend-практикум онлайн от IT-компании SimbirSoft 2021-04-12\n",
      "nika-alenka@mail.ru Трек: Java Событие: Java и C#. Backend-практикум онлайн от IT-компании SimbirSoft 2021-04-12\n",
      "wistfuldr@mail.ru Трек: Java Событие: Java и C#. Backend-практикум онлайн от IT-компании SimbirSoft 2021-04-12\n",
      "gimrt73@gmail.com Трек: Java Событие: Java и C#. Backend-практикум онлайн от IT-компании SimbirSoft 2021-04-12\n",
      "alvu87@mail.ru Трек: Java Событие: Java и C#. Backend-практикум онлайн от IT-компании SimbirSoft 2021-04-12\n",
      "karim.borhanov@gmail.com Трек: Java Событие: Java и C#. Backend-практикум онлайн от IT-компании SimbirSoft 2021-04-12\n",
      "aigul.sibgatulli@mail.ru Трек: Java Событие: Java и C#. Backend-практикум онлайн от IT-компании SimbirSoft 2021-04-12\n",
      "buzhlachudo@gmail.com Трек: Java Событие: Java и C#. Backend-практикум онлайн от IT-компании SimbirSoft 2021-04-12\n",
      "romanov11-11@mail.ru Трек: Java Событие: Java и C#. Backend-практикум онлайн от IT-компании SimbirSoft 2021-04-12\n",
      "goleg0904@gmail.com Трек: Java Событие: Java и C#. Backend-практикум онлайн от IT-компании SimbirSoft 2021-04-12\n",
      "dubrathers@mail.ru Трек: Java Событие: Java и C#. Backend-практикум онлайн от IT-компании SimbirSoft 2021-04-12\n",
      "19dantes91@gmail.com Трек: Java Событие: Java и C#. Backend-практикум онлайн от IT-компании SimbirSoft 2021-04-12\n",
      "SchakinaSvetlana@yandex.ru Трек: Java Событие: Java и C#. Backend-практикум онлайн от IT-компании SimbirSoft 2021-04-12\n",
      "evgen.pahomov01@mail.ru Трек: Java Событие: Java и C#. Backend-практикум онлайн от IT-компании SimbirSoft 2021-04-12\n",
      "Vadim.139@mail.ru Трек: Java Событие: Java и C#. Backend-практикум онлайн от IT-компании SimbirSoft 2021-04-12\n",
      "noob.online@yandex.ru Трек: Java Событие: Java и C#. Backend-практикум онлайн от IT-компании SimbirSoft 2021-04-12\n",
      "radoigovich@yandex.ru Трек: Java Событие: Java и C#. Backend-практикум онлайн от IT-компании SimbirSoft 2021-04-12\n",
      "ivkuzaev@mail.ru Трек: Java Событие: Java и C#. Backend-практикум онлайн от IT-компании SimbirSoft 2021-04-12\n",
      "Dima.unitzaev@icloud.com Трек: Java Событие: Java и C#. Backend-практикум онлайн от IT-компании SimbirSoft 2021-04-12\n",
      "serovstanislav@yandex.ru Трек: Java Событие: Java и C#. Backend-практикум онлайн от IT-компании SimbirSoft 2021-04-12\n",
      "2fotopro@gmail.com Трек: Java Событие: Java и C#. Backend-практикум онлайн от IT-компании SimbirSoft 2021-04-12\n",
      "daryabich98@gmail.com Трек: Java Событие: Java и C#. Backend-практикум онлайн от IT-компании SimbirSoft 2021-04-12\n",
      "golivkin.s.v@gmail.com Трек: Java Событие: Java и C#. Backend-практикум онлайн от IT-компании SimbirSoft 2021-04-12\n",
      "Ravil_vasfiev@mail.ru Трек: Java Событие: Java и C#. Backend-практикум онлайн от IT-компании SimbirSoft 2021-04-12\n",
      "nekotanekota@yandex.ru Трек: Java Событие: Java и C#. Backend-практикум онлайн от IT-компании SimbirSoft 2021-04-12\n",
      "c.a.tulenov@gmail.com Трек: Java Событие: Java и C#. Backend-практикум онлайн от IT-компании SimbirSoft 2021-04-12\n",
      "int-8@yandex.ru Трек: Java Событие: Java и C#. Backend-практикум онлайн от IT-компании SimbirSoft 2021-04-12\n",
      "scha96@mail.ru Трек: Java Событие: Java и C#. Backend-практикум онлайн от IT-компании SimbirSoft 2021-04-12\n",
      "torrent.98@mail.ru Трек: Java Событие: Java и C#. Backend-практикум онлайн от IT-компании SimbirSoft 2021-04-12\n",
      "wybunetri@gmail.com Трек: Java Событие: Java и C#. Backend-практикум онлайн от IT-компании SimbirSoft 2021-04-12\n",
      "Ko4emasova2010@yandex.ru Трек: Java Событие: Java и C#. Backend-практикум онлайн от IT-компании SimbirSoft 2021-04-12\n",
      "m001rr13rus@ya.ru Трек: Java Событие: Java и C#. Backend-практикум онлайн от IT-компании SimbirSoft 2021-04-12\n",
      "konovalovily0987@gmail.com Трек: Java Событие: Java и C#. Backend-практикум онлайн от IT-компании SimbirSoft 2021-04-12\n",
      "vyushkova-marina@mail.ru Трек: Java Событие: Java и C#. Backend-практикум онлайн от IT-компании SimbirSoft 2021-04-12\n",
      "Ramilkontes@mail.ru Трек: Java Событие: Java и C#. Backend-практикум онлайн от IT-компании SimbirSoft 2021-04-12\n",
      "Madahtoxa@mail.ru Трек: Java Событие: Java и C#. Backend-практикум онлайн от IT-компании SimbirSoft 2021-04-12\n",
      "nikitin42maxim@gmail.com Трек: Java Событие: Java и C#. Backend-практикум онлайн от IT-компании SimbirSoft 2021-04-12\n",
      "sinitsynme@outlook.com Трек: Java Событие: Java и C#. Backend-практикум онлайн от IT-компании SimbirSoft 2021-04-12\n",
      "Malov.rrc@yandex.ru Трек: Java Событие: Java и C#. Backend-практикум онлайн от IT-компании SimbirSoft 2021-04-12\n",
      "vlad.rabatat@gmail.com Трек: Java Событие: Java и C#. Backend-практикум онлайн от IT-компании SimbirSoft 2021-04-12\n",
      "Ira525470@gmail.com Трек: Java Событие: Java и C#. Backend-практикум онлайн от IT-компании SimbirSoft 2021-04-12\n",
      "Nailknn@mail.ru Трек: Java Событие: Java и C#. Backend-практикум онлайн от IT-компании SimbirSoft 2021-04-12\n",
      "danillokalp2000@yandex.ru Трек: Java Событие: Java и C#. Backend-практикум онлайн от IT-компании SimbirSoft 2021-04-12\n",
      "hohlov.aleksandr.a@gmail.com Трек: Java Событие: Java и C#. Backend-практикум онлайн от IT-компании SimbirSoft 2021-04-12\n",
      "tarasoff73rus@gmail.com Трек: Java Событие: Java и C#. Backend-практикум онлайн от IT-компании SimbirSoft 2021-04-12\n",
      "slwtk@mail.ru Трек: Java Событие: Java и C#. Backend-практикум онлайн от IT-компании SimbirSoft 2021-04-12\n",
      "yuliya.funtova@gmail.com Трек: Java Событие: Java и C#. Backend-практикум онлайн от IT-компании SimbirSoft 2021-04-12\n",
      "Culugur1@yandex.ru Трек: Java Событие: Java и C#. Backend-практикум онлайн от IT-компании SimbirSoft 2021-04-12\n",
      "max_g88@mail.ru Трек: Java Событие: Java и C#. Backend-практикум онлайн от IT-компании SimbirSoft 2021-04-12\n",
      "al.erenkov@yandex.ru Трек: Java Событие: Java и C#. Backend-практикум онлайн от IT-компании SimbirSoft 2021-04-12\n",
      "bloshound@gmail.com Трек: Java Событие: Java и C#. Backend-практикум онлайн от IT-компании SimbirSoft 2021-04-12\n",
      "Rebrin24@gmail.com Трек: Java Событие: Java и C#. Backend-практикум онлайн от IT-компании SimbirSoft 2021-04-12\n",
      "zolman99@gmail.com Трек: Java Событие: Java и C#. Backend-практикум онлайн от IT-компании SimbirSoft 2021-04-12\n",
      "nnolenka@mail.ru Трек: Java Событие: Java и C#. Backend-практикум онлайн от IT-компании SimbirSoft 2021-04-12\n",
      "i7brothers@icloud.com Трек: Java Событие: Java и C#. Backend-практикум онлайн от IT-компании SimbirSoft 2021-04-12\n",
      "ek899899@gmail.com Трек: Java Событие: Java и C#. Backend-практикум онлайн от IT-компании SimbirSoft 2021-04-12\n",
      "baira.98@mail.ru Трек: Java Событие: Java и C#. Backend-практикум онлайн от IT-компании SimbirSoft 2021-04-12\n",
      "taclipoka@gmail.com Трек: Java Событие: Java и C#. Backend-практикум онлайн от IT-компании SimbirSoft 2021-04-12\n",
      "deniskhaliullin@gmail.com Трек: Java Событие: Java и C#. Backend-практикум онлайн от IT-компании SimbirSoft 2021-04-12\n",
      "Ann-klipka@mail.ru Трек: Java Событие: Java и C#. Backend-практикум онлайн от IT-компании SimbirSoft 2021-04-12\n",
      "Morboaport.ru@mail.ru Трек: Java Событие: Java и C#. Backend-практикум онлайн от IT-компании SimbirSoft 2021-04-12\n",
      "dmimilkin@gmail.com Трек: Java Событие: Java и C#. Backend-практикум онлайн от IT-компании SimbirSoft 2021-04-12\n",
      "Haltero@yandex.ru Трек: Java Событие: Java и C#. Backend-практикум онлайн от IT-компании SimbirSoft 2021-04-12\n",
      "rpg-sigma@yandex.ru Трек: Java Событие: Java и C#. Backend-практикум онлайн от IT-компании SimbirSoft 2021-04-12\n",
      "kutuzovvladislav@mail.ru Трек: Java Событие: Java и C#. Backend-практикум онлайн от IT-компании SimbirSoft 2021-04-12\n",
      "Lily.kmtd@gmail.com Трек: Java Событие: Java и C#. Backend-практикум онлайн от IT-компании SimbirSoft 2021-04-12\n",
      "gamid91@rambler.ru Трек: Java Событие: Java и C#. Backend-практикум онлайн от IT-компании SimbirSoft 2021-04-12\n",
      "vitevskiy@mail.ru Трек: Java Событие: Java и C#. Backend-практикум онлайн от IT-компании SimbirSoft 2021-04-12\n",
      "lm201111@mail.ru Трек: Java Событие: Java и C#. Backend-практикум онлайн от IT-компании SimbirSoft 2021-04-12\n",
      "reddns5@mail.ru Трек: Java Событие: Java и C#. Backend-практикум онлайн от IT-компании SimbirSoft 2021-04-12\n",
      "ilyashekin2811@mail.ru Трек: Java Событие: Java и C#. Backend-практикум онлайн от IT-компании SimbirSoft 2021-04-12\n",
      "strelchm@yandex.ru Трек: Java Событие: Java и C#. Backend-практикум онлайн от IT-компании SimbirSoft 2021-04-12\n",
      "ivan.sibiryakov27@gmail.com Трек: Java Событие: Java и C#. Backend-практикум онлайн от IT-компании SimbirSoft 2021-04-12\n",
      "kav7107@gmail.com Трек: Java Событие: Java и C#. Backend-практикум онлайн от IT-компании SimbirSoft 2021-04-12\n"
     ]
    }
   ],
   "source": [
    "add_objects(TrackChoice, track_choices_data)"
   ],
   "metadata": {
    "collapsed": false,
    "pycharm": {
     "name": "#%%\n"
    }
   }
  },
  {
   "cell_type": "code",
   "execution_count": null,
   "outputs": [],
   "source": [],
   "metadata": {
    "collapsed": false,
    "pycharm": {
     "name": "#%%\n"
    }
   }
  }
 ],
 "metadata": {
  "kernelspec": {
   "display_name": "Python 3",
   "language": "python",
   "name": "python3"
  },
  "language_info": {
   "codemirror_mode": {
    "name": "ipython",
    "version": 3
   },
   "file_extension": ".py",
   "mimetype": "text/x-python",
   "name": "python",
   "nbconvert_exporter": "python",
   "pygments_lexer": "ipython3",
   "version": "3.9.1"
  }
 },
 "nbformat": 4,
 "nbformat_minor": 5
}