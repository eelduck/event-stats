{
 "cells": [
  {
   "cell_type": "code",
   "execution_count": 179,
   "id": "278c479c",
   "metadata": {},
   "outputs": [],
   "source": [
    "import pathlib\n",
    "from pathlib import Path\n",
    "\n",
    "import pandas as pd\n",
    "\n",
    "from nbs.django_setup import init_django\n",
    "\n",
    "init_django('event_stats')"
   ]
  },
  {
   "cell_type": "code",
   "execution_count": 180,
   "id": "0fe6e1a5",
   "metadata": {
    "pycharm": {
     "name": "#%%\n"
    }
   },
   "outputs": [],
   "source": [
    "from event_stats_app.models import *"
   ]
  },
  {
   "cell_type": "code",
   "execution_count": 181,
   "id": "9c7a0889",
   "metadata": {},
   "outputs": [
    {
     "name": "stdout",
     "output_type": "stream",
     "text": [
      "C:\\Users\\soulless\\Documents\\Projects\\event-stats\n"
     ]
    }
   ],
   "source": [
    "ROOT_DIR = pathlib.Path().resolve().parent\n",
    "print(ROOT_DIR)\n",
    "NBS_DIR = ROOT_DIR / \"nbs\"\n",
    "DATA_DIR = Path(r'C:\\Users\\soulless\\Downloads')"
   ]
  },
  {
   "cell_type": "code",
   "execution_count": 182,
   "id": "e06c7890",
   "metadata": {},
   "outputs": [],
   "source": [
    "filename = r'Uchastniki_12.04.2021_--_Java_i_C_._Backend-praktikum_onlayn_ot_IT-kompanii_SimbirSoft_--_na_9.04.20.xlsx'\n",
    "filepath = DATA_DIR / filename"
   ]
  },
  {
   "cell_type": "code",
   "execution_count": 183,
   "id": "4e4087ee",
   "metadata": {},
   "outputs": [
    {
     "data": {
      "text/plain": "                                             Событие       Город  Адрес  \\\n0  Java и C#. Backend-практикум онлайн от IT-комп...  Без города    NaN   \n1  Java и C#. Backend-практикум онлайн от IT-комп...  Без города    NaN   \n2  Java и C#. Backend-практикум онлайн от IT-комп...  Без города    NaN   \n3  Java и C#. Backend-практикум онлайн от IT-комп...  Без города    NaN   \n4  Java и C#. Backend-практикум онлайн от IT-комп...  Без города    NaN   \n\n                  Дата     Заказ                Код       Штрихкод  \\\n0  2021-04-12 18:00:00  34175343  43370243:96890684  1000968906849   \n1  2021-04-12 18:00:00  34204692  43406941:21272486  1000212724861   \n2  2021-04-12 18:00:00  34213598  43418764:10611111  1000106111111   \n3  2021-04-12 18:00:00  34219249  43425927:59401513  1000594015137   \n4  2021-04-12 18:00:00  34219847  43426673:16310612  1000163106129   \n\n       Зарегистрирован  Оплатил  Сумма  ...        Имя  \\\n0  2021-03-01 13:18:56      NaN    NaN  ...  Александр   \n1  2021-03-02 16:53:46      NaN    NaN  ...       Олег   \n2  2021-03-03 00:23:43      NaN    NaN  ...  Александр   \n3  2021-03-03 11:08:12      NaN    NaN  ...     Сергей   \n4  2021-03-03 11:29:19      NaN    NaN  ...      Ольга   \n\n   Номер телефона: + 7 (__) __       Город.1  \\\n0               +7(902)0070821     Ульяновск   \n1          + 7 (937) 650-80-87        Самара   \n2                   9677905223        Казань   \n3                 +79278028812  Димитровград   \n4                   9632346628     Ульяновск   \n\n   Для записи на практикум выберите один из треков:  \\\n0                                                C#   \n1                                                C#   \n2                                                C#   \n3                                                C#   \n4                                                C#   \n\n               Рекламная кампания       Источник трафика  Канал регистрации  \\\n0                      Неизвестно             simbirsoft         Неизвестно   \n1  practicum_Backend_12_04_1anons                     vk    Социальные сети   \n2  practicum_Backend_12_04_1anons                     vk    Социальные сети   \n3                   Прямой трафик          Прямой трафик      Прямой трафик   \n4               Переходы с сайтов  simbirsoft.timepad.ru  Переходы с сайтов   \n\n    GA ClientID Пришёл Комментарий  \n0  1.643347e+09    Нет         NaN  \n1           NaN    Нет         NaN  \n2  1.111874e+09    Нет         NaN  \n3  7.786859e+07    Нет         NaN  \n4           NaN    Нет         NaN  \n\n[5 rows x 27 columns]",
      "text/html": "<div>\n<style scoped>\n    .dataframe tbody tr th:only-of-type {\n        vertical-align: middle;\n    }\n\n    .dataframe tbody tr th {\n        vertical-align: top;\n    }\n\n    .dataframe thead th {\n        text-align: right;\n    }\n</style>\n<table border=\"1\" class=\"dataframe\">\n  <thead>\n    <tr style=\"text-align: right;\">\n      <th></th>\n      <th>Событие</th>\n      <th>Город</th>\n      <th>Адрес</th>\n      <th>Дата</th>\n      <th>Заказ</th>\n      <th>Код</th>\n      <th>Штрихкод</th>\n      <th>Зарегистрирован</th>\n      <th>Оплатил</th>\n      <th>Сумма</th>\n      <th>...</th>\n      <th>Имя</th>\n      <th>Номер телефона: + 7 (__) __</th>\n      <th>Город.1</th>\n      <th>Для записи на практикум выберите один из треков:</th>\n      <th>Рекламная кампания</th>\n      <th>Источник трафика</th>\n      <th>Канал регистрации</th>\n      <th>GA ClientID</th>\n      <th>Пришёл</th>\n      <th>Комментарий</th>\n    </tr>\n  </thead>\n  <tbody>\n    <tr>\n      <th>0</th>\n      <td>Java и C#. Backend-практикум онлайн от IT-комп...</td>\n      <td>Без города</td>\n      <td>NaN</td>\n      <td>2021-04-12 18:00:00</td>\n      <td>34175343</td>\n      <td>43370243:96890684</td>\n      <td>1000968906849</td>\n      <td>2021-03-01 13:18:56</td>\n      <td>NaN</td>\n      <td>NaN</td>\n      <td>...</td>\n      <td>Александр</td>\n      <td>+7(902)0070821</td>\n      <td>Ульяновск</td>\n      <td>C#</td>\n      <td>Неизвестно</td>\n      <td>simbirsoft</td>\n      <td>Неизвестно</td>\n      <td>1.643347e+09</td>\n      <td>Нет</td>\n      <td>NaN</td>\n    </tr>\n    <tr>\n      <th>1</th>\n      <td>Java и C#. Backend-практикум онлайн от IT-комп...</td>\n      <td>Без города</td>\n      <td>NaN</td>\n      <td>2021-04-12 18:00:00</td>\n      <td>34204692</td>\n      <td>43406941:21272486</td>\n      <td>1000212724861</td>\n      <td>2021-03-02 16:53:46</td>\n      <td>NaN</td>\n      <td>NaN</td>\n      <td>...</td>\n      <td>Олег</td>\n      <td>+ 7 (937) 650-80-87</td>\n      <td>Самара</td>\n      <td>C#</td>\n      <td>practicum_Backend_12_04_1anons</td>\n      <td>vk</td>\n      <td>Социальные сети</td>\n      <td>NaN</td>\n      <td>Нет</td>\n      <td>NaN</td>\n    </tr>\n    <tr>\n      <th>2</th>\n      <td>Java и C#. Backend-практикум онлайн от IT-комп...</td>\n      <td>Без города</td>\n      <td>NaN</td>\n      <td>2021-04-12 18:00:00</td>\n      <td>34213598</td>\n      <td>43418764:10611111</td>\n      <td>1000106111111</td>\n      <td>2021-03-03 00:23:43</td>\n      <td>NaN</td>\n      <td>NaN</td>\n      <td>...</td>\n      <td>Александр</td>\n      <td>9677905223</td>\n      <td>Казань</td>\n      <td>C#</td>\n      <td>practicum_Backend_12_04_1anons</td>\n      <td>vk</td>\n      <td>Социальные сети</td>\n      <td>1.111874e+09</td>\n      <td>Нет</td>\n      <td>NaN</td>\n    </tr>\n    <tr>\n      <th>3</th>\n      <td>Java и C#. Backend-практикум онлайн от IT-комп...</td>\n      <td>Без города</td>\n      <td>NaN</td>\n      <td>2021-04-12 18:00:00</td>\n      <td>34219249</td>\n      <td>43425927:59401513</td>\n      <td>1000594015137</td>\n      <td>2021-03-03 11:08:12</td>\n      <td>NaN</td>\n      <td>NaN</td>\n      <td>...</td>\n      <td>Сергей</td>\n      <td>+79278028812</td>\n      <td>Димитровград</td>\n      <td>C#</td>\n      <td>Прямой трафик</td>\n      <td>Прямой трафик</td>\n      <td>Прямой трафик</td>\n      <td>7.786859e+07</td>\n      <td>Нет</td>\n      <td>NaN</td>\n    </tr>\n    <tr>\n      <th>4</th>\n      <td>Java и C#. Backend-практикум онлайн от IT-комп...</td>\n      <td>Без города</td>\n      <td>NaN</td>\n      <td>2021-04-12 18:00:00</td>\n      <td>34219847</td>\n      <td>43426673:16310612</td>\n      <td>1000163106129</td>\n      <td>2021-03-03 11:29:19</td>\n      <td>NaN</td>\n      <td>NaN</td>\n      <td>...</td>\n      <td>Ольга</td>\n      <td>9632346628</td>\n      <td>Ульяновск</td>\n      <td>C#</td>\n      <td>Переходы с сайтов</td>\n      <td>simbirsoft.timepad.ru</td>\n      <td>Переходы с сайтов</td>\n      <td>NaN</td>\n      <td>Нет</td>\n      <td>NaN</td>\n    </tr>\n  </tbody>\n</table>\n<p>5 rows × 27 columns</p>\n</div>"
     },
     "execution_count": 183,
     "metadata": {},
     "output_type": "execute_result"
    }
   ],
   "source": [
    "df = pd.read_excel(filepath)\n",
    "df.head()"
   ]
  },
  {
   "cell_type": "code",
   "execution_count": 184,
   "id": "79fd0219",
   "metadata": {},
   "outputs": [
    {
     "name": "stdout",
     "output_type": "stream",
     "text": [
      "<class 'pandas.core.frame.DataFrame'>\n",
      "RangeIndex: 150 entries, 0 to 149\n",
      "Data columns (total 27 columns):\n",
      " #   Column                                            Non-Null Count  Dtype  \n",
      "---  ------                                            --------------  -----  \n",
      " 0   Событие                                           150 non-null    object \n",
      " 1   Город                                             150 non-null    object \n",
      " 2   Адрес                                             0 non-null      float64\n",
      " 3   Дата                                              150 non-null    object \n",
      " 4   Заказ                                             150 non-null    int64  \n",
      " 5   Код                                               150 non-null    object \n",
      " 6   Штрихкод                                          150 non-null    int64  \n",
      " 7   Зарегистрирован                                   150 non-null    object \n",
      " 8   Оплатил                                           0 non-null      float64\n",
      " 9   Сумма                                             0 non-null      float64\n",
      " 10  Тип оплаты                                        0 non-null      float64\n",
      " 11  ID оплаты                                         0 non-null      float64\n",
      " 12  Тип билета                                        150 non-null    object \n",
      " 13  Промокод                                          0 non-null      float64\n",
      " 14  Статус                                            150 non-null    object \n",
      " 15  E-mail                                            150 non-null    object \n",
      " 16  Фамилия                                           150 non-null    object \n",
      " 17  Имя                                               150 non-null    object \n",
      " 18  Номер телефона: + 7 (__) __                       150 non-null    object \n",
      " 19  Город.1                                           150 non-null    object \n",
      " 20  Для записи на практикум выберите один из треков:  150 non-null    object \n",
      " 21  Рекламная кампания                                150 non-null    object \n",
      " 22  Источник трафика                                  150 non-null    object \n",
      " 23  Канал регистрации                                 150 non-null    object \n",
      " 24  GA ClientID                                       131 non-null    float64\n",
      " 25  Пришёл                                            150 non-null    object \n",
      " 26  Комментарий                                       0 non-null      float64\n",
      "dtypes: float64(8), int64(2), object(17)\n",
      "memory usage: 31.8+ KB\n"
     ]
    }
   ],
   "source": [
    "df.info()"
   ]
  },
  {
   "cell_type": "code",
   "execution_count": 185,
   "id": "9a84fa6e",
   "metadata": {},
   "outputs": [],
   "source": [
    "# Объявление переменных заголовков таблицы\n",
    "event_header = 'Событие'\n",
    "event_date_header = 'Дата'\n",
    "track_name_header = 'Для записи на практикум выберите один из треков:'\n",
    "user_city_header = 'Город.1'\n",
    "user_first_name_header = 'Имя'\n",
    "user_last_name_header = 'Фамилия'\n",
    "user_email_header = 'E-mail'\n",
    "user_phone_number_header = r'Номер телефона: + 7 (__) __'"
   ]
  },
  {
   "cell_type": "code",
   "execution_count": 186,
   "id": "5fff8dce",
   "metadata": {},
   "outputs": [],
   "source": [
    "# Первоначальные преобразования таблицы\n",
    "df[event_date_header] = df[event_date_header].astype('datetime64')"
   ]
  },
  {
   "cell_type": "code",
   "execution_count": 187,
   "outputs": [],
   "source": [
    "user_attributes = [\n",
    "    user_first_name_header,\n",
    "    user_last_name_header,\n",
    "    user_email_header,\n",
    "    user_phone_number_header,\n",
    "    user_city_header,\n",
    "]"
   ],
   "metadata": {
    "collapsed": false,
    "pycharm": {
     "name": "#%%\n"
    }
   }
  },
  {
   "cell_type": "code",
   "execution_count": 188,
   "id": "9d648898",
   "metadata": {
    "pycharm": {
     "name": "#%%\n"
    }
   },
   "outputs": [
    {
     "data": {
      "text/plain": "           Имя      Фамилия                       E-mail  \\\n0    Александр      Кулагин            kulaginag@mail.ru   \n1         Олег     Бербасов        olegoleg.ru@gmail.com   \n2    Александр     Мясников      chuvashpeople@yandex.ru   \n3       Сергей    Хворенков           shvorenkov@mail.ru   \n4        Ольга    Абакумова   abakumova.olga.a@yandex.ru   \n..         ...          ...                          ...   \n144       Макс      Лизунов             lm201111@mail.ru   \n146       Илья        Щекин       ilyashekin2811@mail.ru   \n147     Михаил  Стрельченко           strelchm@yandex.ru   \n148       Иван    Сибиряков  ivan.sibiryakov27@gmail.com   \n149  Александр       Костин            kav7107@gmail.com   \n\n    Номер телефона: + 7 (__) __          Город.1  \n0                +7(902)0070821        Ульяновск  \n1           + 7 (937) 650-80-87           Самара  \n2                    9677905223           Казань  \n3                  +79278028812     Димитровград  \n4                    9632346628        Ульяновск  \n..                          ...              ...  \n144              +7(908)4738467        Ульяновск  \n146                  9277310932           Самара  \n147                  9539143526            Томск  \n148                +79214682088  Санкт-Петербург  \n149              +7(952)0986100  Санкт-Петербург  \n\n[147 rows x 5 columns]",
      "text/html": "<div>\n<style scoped>\n    .dataframe tbody tr th:only-of-type {\n        vertical-align: middle;\n    }\n\n    .dataframe tbody tr th {\n        vertical-align: top;\n    }\n\n    .dataframe thead th {\n        text-align: right;\n    }\n</style>\n<table border=\"1\" class=\"dataframe\">\n  <thead>\n    <tr style=\"text-align: right;\">\n      <th></th>\n      <th>Имя</th>\n      <th>Фамилия</th>\n      <th>E-mail</th>\n      <th>Номер телефона: + 7 (__) __</th>\n      <th>Город.1</th>\n    </tr>\n  </thead>\n  <tbody>\n    <tr>\n      <th>0</th>\n      <td>Александр</td>\n      <td>Кулагин</td>\n      <td>kulaginag@mail.ru</td>\n      <td>+7(902)0070821</td>\n      <td>Ульяновск</td>\n    </tr>\n    <tr>\n      <th>1</th>\n      <td>Олег</td>\n      <td>Бербасов</td>\n      <td>olegoleg.ru@gmail.com</td>\n      <td>+ 7 (937) 650-80-87</td>\n      <td>Самара</td>\n    </tr>\n    <tr>\n      <th>2</th>\n      <td>Александр</td>\n      <td>Мясников</td>\n      <td>chuvashpeople@yandex.ru</td>\n      <td>9677905223</td>\n      <td>Казань</td>\n    </tr>\n    <tr>\n      <th>3</th>\n      <td>Сергей</td>\n      <td>Хворенков</td>\n      <td>shvorenkov@mail.ru</td>\n      <td>+79278028812</td>\n      <td>Димитровград</td>\n    </tr>\n    <tr>\n      <th>4</th>\n      <td>Ольга</td>\n      <td>Абакумова</td>\n      <td>abakumova.olga.a@yandex.ru</td>\n      <td>9632346628</td>\n      <td>Ульяновск</td>\n    </tr>\n    <tr>\n      <th>...</th>\n      <td>...</td>\n      <td>...</td>\n      <td>...</td>\n      <td>...</td>\n      <td>...</td>\n    </tr>\n    <tr>\n      <th>144</th>\n      <td>Макс</td>\n      <td>Лизунов</td>\n      <td>lm201111@mail.ru</td>\n      <td>+7(908)4738467</td>\n      <td>Ульяновск</td>\n    </tr>\n    <tr>\n      <th>146</th>\n      <td>Илья</td>\n      <td>Щекин</td>\n      <td>ilyashekin2811@mail.ru</td>\n      <td>9277310932</td>\n      <td>Самара</td>\n    </tr>\n    <tr>\n      <th>147</th>\n      <td>Михаил</td>\n      <td>Стрельченко</td>\n      <td>strelchm@yandex.ru</td>\n      <td>9539143526</td>\n      <td>Томск</td>\n    </tr>\n    <tr>\n      <th>148</th>\n      <td>Иван</td>\n      <td>Сибиряков</td>\n      <td>ivan.sibiryakov27@gmail.com</td>\n      <td>+79214682088</td>\n      <td>Санкт-Петербург</td>\n    </tr>\n    <tr>\n      <th>149</th>\n      <td>Александр</td>\n      <td>Костин</td>\n      <td>kav7107@gmail.com</td>\n      <td>+7(952)0986100</td>\n      <td>Санкт-Петербург</td>\n    </tr>\n  </tbody>\n</table>\n<p>147 rows × 5 columns</p>\n</div>"
     },
     "execution_count": 188,
     "metadata": {},
     "output_type": "execute_result"
    }
   ],
   "source": [
    "# TODO: Добавлять последние данные юзера по дате регистрации (если произошла ошибка и пользователь сменил данные)\n",
    "users_df = df[user_attributes].drop_duplicates(subset=user_email_header)\n",
    "users_df"
   ]
  },
  {
   "cell_type": "code",
   "execution_count": 189,
   "id": "6afc5eeb",
   "metadata": {},
   "outputs": [
    {
     "data": {
      "text/plain": "147"
     },
     "execution_count": 189,
     "metadata": {},
     "output_type": "execute_result"
    }
   ],
   "source": [
    "len(df[user_email_header].unique())"
   ]
  },
  {
   "cell_type": "code",
   "execution_count": 190,
   "id": "abfe6309",
   "metadata": {},
   "outputs": [],
   "source": [
    "def add_objects(Model, data: dict, wipe: bool = False):\n",
    "    \"\"\"\n",
    "    Добавление экземпляров модели\n",
    "    data: Данные для добавление\n",
    "    Model: django.db.models - модель, в которую будут добавляться данные\n",
    "    wipe: флаг очистки всех сущностней модели\n",
    "    \"\"\"\n",
    "    qs = Model.objects.all()\n",
    "    if wipe and qs.count() != 0:\n",
    "        qs.delete()\n",
    "\n",
    "    new_entries = []\n",
    "    for d in data:\n",
    "        new_obj = Model(**d)\n",
    "        new_entries.append(new_obj)\n",
    "\n",
    "    Model.objects.bulk_create(new_entries)"
   ]
  },
  {
   "cell_type": "code",
   "execution_count": 191,
   "id": "e4eadbba",
   "metadata": {
    "pycharm": {
     "name": "#%%\n"
    }
   },
   "outputs": [],
   "source": [
    "def del_all_objects(Model):\n",
    "    \"\"\"\n",
    "    Удаление всех экземпляров модели\n",
    "    Model: django.db.models\n",
    "    \"\"\"\n",
    "    qs = Model.objects.all()\n",
    "    qs.delete()"
   ]
  },
  {
   "cell_type": "markdown",
   "source": [
    "## Создание Пользователей"
   ],
   "metadata": {
    "collapsed": false
   }
  },
  {
   "cell_type": "code",
   "execution_count": 192,
   "id": "272de6f0",
   "metadata": {
    "pycharm": {
     "name": "#%%\n"
    }
   },
   "outputs": [],
   "source": [
    "columns_to_rename = {\n",
    "    user_first_name_header: 'first_name',\n",
    "    user_last_name_header: 'last_name',\n",
    "    user_email_header: 'email',\n",
    "    user_phone_number_header: 'phone_number',\n",
    "    user_city_header: 'city',\n",
    "}\n",
    "# Для оптимизации и вставки по месту (без порождения DF) inplace=True\n",
    "# https://stackoverflow.com/questions/11346283/renaming-columns-in-pandas\n",
    "users_df = users_df.rename(columns=columns_to_rename)\n",
    "columns_to_export = [\n",
    "    'first_name',\n",
    "    'last_name',\n",
    "    'email',\n",
    "    'phone_number',\n",
    "    'city',\n",
    "]\n",
    "\n",
    "users_data = users_df[columns_to_export].to_dict('records')\n",
    "# users_data"
   ]
  },
  {
   "cell_type": "code",
   "execution_count": 193,
   "id": "39cc319f",
   "metadata": {
    "pycharm": {
     "name": "#%%\n"
    }
   },
   "outputs": [],
   "source": [
    "# Добавление новых пользователей\n",
    "# add_objects(User, users_data)"
   ]
  },
  {
   "cell_type": "markdown",
   "source": [
    "## Создание Событий"
   ],
   "metadata": {
    "collapsed": false
   }
  },
  {
   "cell_type": "code",
   "execution_count": 194,
   "id": "c506479c",
   "metadata": {
    "pycharm": {
     "name": "#%%\n"
    }
   },
   "outputs": [
    {
     "data": {
      "text/plain": "                                             Событие                Дата\n0  Java и C#. Backend-практикум онлайн от IT-комп... 2021-04-12 18:00:00",
      "text/html": "<div>\n<style scoped>\n    .dataframe tbody tr th:only-of-type {\n        vertical-align: middle;\n    }\n\n    .dataframe tbody tr th {\n        vertical-align: top;\n    }\n\n    .dataframe thead th {\n        text-align: right;\n    }\n</style>\n<table border=\"1\" class=\"dataframe\">\n  <thead>\n    <tr style=\"text-align: right;\">\n      <th></th>\n      <th>Событие</th>\n      <th>Дата</th>\n    </tr>\n  </thead>\n  <tbody>\n    <tr>\n      <th>0</th>\n      <td>Java и C#. Backend-практикум онлайн от IT-комп...</td>\n      <td>2021-04-12 18:00:00</td>\n    </tr>\n  </tbody>\n</table>\n</div>"
     },
     "execution_count": 194,
     "metadata": {},
     "output_type": "execute_result"
    }
   ],
   "source": [
    "events_df = df[[event_header, event_date_header]].drop_duplicates()\n",
    "# events_df[event_date_header] = events_df[event_date_header].astype('datetime64')\n",
    "events_df"
   ]
  },
  {
   "cell_type": "code",
   "execution_count": 195,
   "outputs": [],
   "source": [
    "columns_to_rename = {\n",
    "    event_header: 'title',\n",
    "    event_date_header: 'date',\n",
    "}\n",
    "events_df = events_df.rename(columns=columns_to_rename)\n",
    "columns_to_export = [\n",
    "    'title',\n",
    "    'date',\n",
    "]\n",
    "\n",
    "events_data = events_df[columns_to_export].to_dict('records')"
   ],
   "metadata": {
    "collapsed": false,
    "pycharm": {
     "name": "#%%\n"
    }
   }
  },
  {
   "cell_type": "code",
   "execution_count": 196,
   "outputs": [],
   "source": [
    "add_objects(Event, events_data)"
   ],
   "metadata": {
    "collapsed": false,
    "pycharm": {
     "name": "#%%\n"
    }
   }
  },
  {
   "cell_type": "markdown",
   "source": [
    "## Создание Треков\n"
   ],
   "metadata": {
    "collapsed": false
   }
  },
  {
   "cell_type": "code",
   "execution_count": 197,
   "outputs": [
    {
     "data": {
      "text/plain": "                                              Событие                Дата  \\\n0   Java и C#. Backend-практикум онлайн от IT-комп... 2021-04-12 18:00:00   \n74  Java и C#. Backend-практикум онлайн от IT-комп... 2021-04-12 18:00:00   \n\n   Для записи на практикум выберите один из треков:  \n0                                                C#  \n74                                             Java  ",
      "text/html": "<div>\n<style scoped>\n    .dataframe tbody tr th:only-of-type {\n        vertical-align: middle;\n    }\n\n    .dataframe tbody tr th {\n        vertical-align: top;\n    }\n\n    .dataframe thead th {\n        text-align: right;\n    }\n</style>\n<table border=\"1\" class=\"dataframe\">\n  <thead>\n    <tr style=\"text-align: right;\">\n      <th></th>\n      <th>Событие</th>\n      <th>Дата</th>\n      <th>Для записи на практикум выберите один из треков:</th>\n    </tr>\n  </thead>\n  <tbody>\n    <tr>\n      <th>0</th>\n      <td>Java и C#. Backend-практикум онлайн от IT-комп...</td>\n      <td>2021-04-12 18:00:00</td>\n      <td>C#</td>\n    </tr>\n    <tr>\n      <th>74</th>\n      <td>Java и C#. Backend-практикум онлайн от IT-комп...</td>\n      <td>2021-04-12 18:00:00</td>\n      <td>Java</td>\n    </tr>\n  </tbody>\n</table>\n</div>"
     },
     "execution_count": 197,
     "metadata": {},
     "output_type": "execute_result"
    }
   ],
   "source": [
    "track_df = df[[event_header, event_date_header, track_name_header]].drop_duplicates()\n",
    "track_df"
   ],
   "metadata": {
    "collapsed": false,
    "pycharm": {
     "name": "#%%\n"
    }
   }
  },
  {
   "cell_type": "code",
   "execution_count": 198,
   "outputs": [],
   "source": [
    "track_df['event_id'] = list(\n",
    "    map(lambda x: Event.objects.filter(title=x[1][event_header], date=x[1][event_date_header])[0].id,\n",
    "        list(track_df.iterrows())))"
   ],
   "metadata": {
    "collapsed": false,
    "pycharm": {
     "name": "#%%\n"
    }
   }
  },
  {
   "cell_type": "code",
   "execution_count": 199,
   "outputs": [],
   "source": [
    "columns_to_rename = {\n",
    "    track_name_header: 'title'\n",
    "}\n",
    "track_df = track_df.rename(columns=columns_to_rename)\n",
    "columns_to_export = [\n",
    "    'title',\n",
    "    'event_id',\n",
    "]"
   ],
   "metadata": {
    "collapsed": false,
    "pycharm": {
     "name": "#%%\n"
    }
   }
  },
  {
   "cell_type": "code",
   "execution_count": 200,
   "outputs": [],
   "source": [
    "track_data = track_df[columns_to_export].to_dict('records')\n",
    "\n"
   ],
   "metadata": {
    "collapsed": false,
    "pycharm": {
     "name": "#%%\n"
    }
   }
  },
  {
   "cell_type": "code",
   "execution_count": 201,
   "outputs": [],
   "source": [
    "# TODO: Добавить логику исключения случаев дубликатов\n",
    "add_objects(Track, track_data)"
   ],
   "metadata": {
    "collapsed": false,
    "pycharm": {
     "name": "#%%\n"
    }
   }
  },
  {
   "cell_type": "markdown",
   "source": [
    "## Создание Выбора Треков"
   ],
   "metadata": {
    "collapsed": false
   }
  },
  {
   "cell_type": "code",
   "execution_count": 202,
   "outputs": [
    {
     "data": {
      "text/plain": "                          E-mail  \\\n0              kulaginag@mail.ru   \n1          olegoleg.ru@gmail.com   \n2        chuvashpeople@yandex.ru   \n3             shvorenkov@mail.ru   \n4     abakumova.olga.a@yandex.ru   \n..                           ...   \n145              reddns5@mail.ru   \n146       ilyashekin2811@mail.ru   \n147           strelchm@yandex.ru   \n148  ivan.sibiryakov27@gmail.com   \n149            kav7107@gmail.com   \n\n                                               Событие                Дата  \\\n0    Java и C#. Backend-практикум онлайн от IT-комп... 2021-04-12 18:00:00   \n1    Java и C#. Backend-практикум онлайн от IT-комп... 2021-04-12 18:00:00   \n2    Java и C#. Backend-практикум онлайн от IT-комп... 2021-04-12 18:00:00   \n3    Java и C#. Backend-практикум онлайн от IT-комп... 2021-04-12 18:00:00   \n4    Java и C#. Backend-практикум онлайн от IT-комп... 2021-04-12 18:00:00   \n..                                                 ...                 ...   \n145  Java и C#. Backend-практикум онлайн от IT-комп... 2021-04-12 18:00:00   \n146  Java и C#. Backend-практикум онлайн от IT-комп... 2021-04-12 18:00:00   \n147  Java и C#. Backend-практикум онлайн от IT-комп... 2021-04-12 18:00:00   \n148  Java и C#. Backend-практикум онлайн от IT-комп... 2021-04-12 18:00:00   \n149  Java и C#. Backend-практикум онлайн от IT-комп... 2021-04-12 18:00:00   \n\n    Для записи на практикум выберите один из треков:  \n0                                                 C#  \n1                                                 C#  \n2                                                 C#  \n3                                                 C#  \n4                                                 C#  \n..                                               ...  \n145                                             Java  \n146                                             Java  \n147                                             Java  \n148                                             Java  \n149                                             Java  \n\n[150 rows x 4 columns]",
      "text/html": "<div>\n<style scoped>\n    .dataframe tbody tr th:only-of-type {\n        vertical-align: middle;\n    }\n\n    .dataframe tbody tr th {\n        vertical-align: top;\n    }\n\n    .dataframe thead th {\n        text-align: right;\n    }\n</style>\n<table border=\"1\" class=\"dataframe\">\n  <thead>\n    <tr style=\"text-align: right;\">\n      <th></th>\n      <th>E-mail</th>\n      <th>Событие</th>\n      <th>Дата</th>\n      <th>Для записи на практикум выберите один из треков:</th>\n    </tr>\n  </thead>\n  <tbody>\n    <tr>\n      <th>0</th>\n      <td>kulaginag@mail.ru</td>\n      <td>Java и C#. Backend-практикум онлайн от IT-комп...</td>\n      <td>2021-04-12 18:00:00</td>\n      <td>C#</td>\n    </tr>\n    <tr>\n      <th>1</th>\n      <td>olegoleg.ru@gmail.com</td>\n      <td>Java и C#. Backend-практикум онлайн от IT-комп...</td>\n      <td>2021-04-12 18:00:00</td>\n      <td>C#</td>\n    </tr>\n    <tr>\n      <th>2</th>\n      <td>chuvashpeople@yandex.ru</td>\n      <td>Java и C#. Backend-практикум онлайн от IT-комп...</td>\n      <td>2021-04-12 18:00:00</td>\n      <td>C#</td>\n    </tr>\n    <tr>\n      <th>3</th>\n      <td>shvorenkov@mail.ru</td>\n      <td>Java и C#. Backend-практикум онлайн от IT-комп...</td>\n      <td>2021-04-12 18:00:00</td>\n      <td>C#</td>\n    </tr>\n    <tr>\n      <th>4</th>\n      <td>abakumova.olga.a@yandex.ru</td>\n      <td>Java и C#. Backend-практикум онлайн от IT-комп...</td>\n      <td>2021-04-12 18:00:00</td>\n      <td>C#</td>\n    </tr>\n    <tr>\n      <th>...</th>\n      <td>...</td>\n      <td>...</td>\n      <td>...</td>\n      <td>...</td>\n    </tr>\n    <tr>\n      <th>145</th>\n      <td>reddns5@mail.ru</td>\n      <td>Java и C#. Backend-практикум онлайн от IT-комп...</td>\n      <td>2021-04-12 18:00:00</td>\n      <td>Java</td>\n    </tr>\n    <tr>\n      <th>146</th>\n      <td>ilyashekin2811@mail.ru</td>\n      <td>Java и C#. Backend-практикум онлайн от IT-комп...</td>\n      <td>2021-04-12 18:00:00</td>\n      <td>Java</td>\n    </tr>\n    <tr>\n      <th>147</th>\n      <td>strelchm@yandex.ru</td>\n      <td>Java и C#. Backend-практикум онлайн от IT-комп...</td>\n      <td>2021-04-12 18:00:00</td>\n      <td>Java</td>\n    </tr>\n    <tr>\n      <th>148</th>\n      <td>ivan.sibiryakov27@gmail.com</td>\n      <td>Java и C#. Backend-практикум онлайн от IT-комп...</td>\n      <td>2021-04-12 18:00:00</td>\n      <td>Java</td>\n    </tr>\n    <tr>\n      <th>149</th>\n      <td>kav7107@gmail.com</td>\n      <td>Java и C#. Backend-практикум онлайн от IT-комп...</td>\n      <td>2021-04-12 18:00:00</td>\n      <td>Java</td>\n    </tr>\n  </tbody>\n</table>\n<p>150 rows × 4 columns</p>\n</div>"
     },
     "execution_count": 202,
     "metadata": {},
     "output_type": "execute_result"
    }
   ],
   "source": [
    "# participant_id\n",
    "# track_id\n",
    "track_choices_df = df[[user_email_header, event_header, event_date_header, track_name_header]].drop_duplicates()\n",
    "track_choices_df"
   ],
   "metadata": {
    "collapsed": false,
    "pycharm": {
     "name": "#%%\n"
    }
   }
  },
  {
   "cell_type": "code",
   "execution_count": 202,
   "outputs": [],
   "source": [],
   "metadata": {
    "collapsed": false,
    "pycharm": {
     "name": "#%%\n"
    }
   }
  },
  {
   "cell_type": "code",
   "execution_count": 203,
   "outputs": [
    {
     "data": {
      "text/plain": "[6,\n 7,\n 8,\n 9,\n 10,\n 11,\n 12,\n 13,\n 14,\n 15,\n 16,\n 17,\n 18,\n 19,\n 20,\n 21,\n 22,\n 23,\n 24,\n 25,\n 26,\n 27,\n 28,\n 29,\n 30,\n 31,\n 32,\n None,\n 34,\n 35,\n 36,\n 37,\n 38,\n 39,\n 40,\n 41,\n 42,\n 43,\n 44,\n 45,\n 46,\n 47,\n 48,\n 49,\n 50,\n 51,\n 52,\n 53,\n 54,\n 55,\n 56,\n 57,\n 58,\n 59,\n 60,\n 61,\n 62,\n 63,\n 64,\n 65,\n 66,\n 67,\n 68,\n 69,\n 70,\n 71,\n 72,\n 73,\n 74,\n 75,\n 76,\n 77,\n None,\n 79,\n 80,\n 81,\n 82,\n 83,\n 84,\n 85,\n 86,\n 87,\n 25,\n 88,\n 89,\n 90,\n 91,\n 92,\n 93,\n 94,\n 95,\n 96,\n 97,\n 98,\n 99,\n 100,\n 101,\n 102,\n 103,\n 104,\n 105,\n 106,\n 107,\n 108,\n 109,\n 110,\n 111,\n 112,\n 113,\n 114,\n 115,\n 116,\n 117,\n 118,\n 119,\n 120,\n 121,\n None,\n 123,\n 124,\n 125,\n 126,\n 127,\n 128,\n 129,\n 130,\n 131,\n 132,\n 133,\n 134,\n 135,\n 136,\n 137,\n 68,\n 138,\n 139,\n 140,\n 141,\n 142,\n 143,\n 144,\n 145,\n 146,\n 147,\n 148,\n 77,\n 149,\n 150,\n 151,\n 152]"
     },
     "execution_count": 203,
     "metadata": {},
     "output_type": "execute_result"
    }
   ],
   "source": [
    "participant_ids = []\n",
    "for index, row in track_choices_df.iterrows():\n",
    "    query = User.objects.filter(email=row[user_email_header])\n",
    "    value = query[0].id if query else None\n",
    "    participant_ids.append(value)\n",
    "participant_ids"
   ],
   "metadata": {
    "collapsed": false,
    "pycharm": {
     "name": "#%%\n"
    }
   }
  },
  {
   "cell_type": "code",
   "execution_count": 204,
   "outputs": [
    {
     "data": {
      "text/plain": "                          E-mail  \\\n0              kulaginag@mail.ru   \n1          olegoleg.ru@gmail.com   \n2        chuvashpeople@yandex.ru   \n3             shvorenkov@mail.ru   \n4     abakumova.olga.a@yandex.ru   \n..                           ...   \n145              reddns5@mail.ru   \n146       ilyashekin2811@mail.ru   \n147           strelchm@yandex.ru   \n148  ivan.sibiryakov27@gmail.com   \n149            kav7107@gmail.com   \n\n                                               Событие                Дата  \\\n0    Java и C#. Backend-практикум онлайн от IT-комп... 2021-04-12 18:00:00   \n1    Java и C#. Backend-практикум онлайн от IT-комп... 2021-04-12 18:00:00   \n2    Java и C#. Backend-практикум онлайн от IT-комп... 2021-04-12 18:00:00   \n3    Java и C#. Backend-практикум онлайн от IT-комп... 2021-04-12 18:00:00   \n4    Java и C#. Backend-практикум онлайн от IT-комп... 2021-04-12 18:00:00   \n..                                                 ...                 ...   \n145  Java и C#. Backend-практикум онлайн от IT-комп... 2021-04-12 18:00:00   \n146  Java и C#. Backend-практикум онлайн от IT-комп... 2021-04-12 18:00:00   \n147  Java и C#. Backend-практикум онлайн от IT-комп... 2021-04-12 18:00:00   \n148  Java и C#. Backend-практикум онлайн от IT-комп... 2021-04-12 18:00:00   \n149  Java и C#. Backend-практикум онлайн от IT-комп... 2021-04-12 18:00:00   \n\n    Для записи на практикум выберите один из треков:  participant_id  \n0                                                 C#             6.0  \n1                                                 C#             7.0  \n2                                                 C#             8.0  \n3                                                 C#             9.0  \n4                                                 C#            10.0  \n..                                               ...             ...  \n145                                             Java            77.0  \n146                                             Java           149.0  \n147                                             Java           150.0  \n148                                             Java           151.0  \n149                                             Java           152.0  \n\n[150 rows x 5 columns]",
      "text/html": "<div>\n<style scoped>\n    .dataframe tbody tr th:only-of-type {\n        vertical-align: middle;\n    }\n\n    .dataframe tbody tr th {\n        vertical-align: top;\n    }\n\n    .dataframe thead th {\n        text-align: right;\n    }\n</style>\n<table border=\"1\" class=\"dataframe\">\n  <thead>\n    <tr style=\"text-align: right;\">\n      <th></th>\n      <th>E-mail</th>\n      <th>Событие</th>\n      <th>Дата</th>\n      <th>Для записи на практикум выберите один из треков:</th>\n      <th>participant_id</th>\n    </tr>\n  </thead>\n  <tbody>\n    <tr>\n      <th>0</th>\n      <td>kulaginag@mail.ru</td>\n      <td>Java и C#. Backend-практикум онлайн от IT-комп...</td>\n      <td>2021-04-12 18:00:00</td>\n      <td>C#</td>\n      <td>6.0</td>\n    </tr>\n    <tr>\n      <th>1</th>\n      <td>olegoleg.ru@gmail.com</td>\n      <td>Java и C#. Backend-практикум онлайн от IT-комп...</td>\n      <td>2021-04-12 18:00:00</td>\n      <td>C#</td>\n      <td>7.0</td>\n    </tr>\n    <tr>\n      <th>2</th>\n      <td>chuvashpeople@yandex.ru</td>\n      <td>Java и C#. Backend-практикум онлайн от IT-комп...</td>\n      <td>2021-04-12 18:00:00</td>\n      <td>C#</td>\n      <td>8.0</td>\n    </tr>\n    <tr>\n      <th>3</th>\n      <td>shvorenkov@mail.ru</td>\n      <td>Java и C#. Backend-практикум онлайн от IT-комп...</td>\n      <td>2021-04-12 18:00:00</td>\n      <td>C#</td>\n      <td>9.0</td>\n    </tr>\n    <tr>\n      <th>4</th>\n      <td>abakumova.olga.a@yandex.ru</td>\n      <td>Java и C#. Backend-практикум онлайн от IT-комп...</td>\n      <td>2021-04-12 18:00:00</td>\n      <td>C#</td>\n      <td>10.0</td>\n    </tr>\n    <tr>\n      <th>...</th>\n      <td>...</td>\n      <td>...</td>\n      <td>...</td>\n      <td>...</td>\n      <td>...</td>\n    </tr>\n    <tr>\n      <th>145</th>\n      <td>reddns5@mail.ru</td>\n      <td>Java и C#. Backend-практикум онлайн от IT-комп...</td>\n      <td>2021-04-12 18:00:00</td>\n      <td>Java</td>\n      <td>77.0</td>\n    </tr>\n    <tr>\n      <th>146</th>\n      <td>ilyashekin2811@mail.ru</td>\n      <td>Java и C#. Backend-практикум онлайн от IT-комп...</td>\n      <td>2021-04-12 18:00:00</td>\n      <td>Java</td>\n      <td>149.0</td>\n    </tr>\n    <tr>\n      <th>147</th>\n      <td>strelchm@yandex.ru</td>\n      <td>Java и C#. Backend-практикум онлайн от IT-комп...</td>\n      <td>2021-04-12 18:00:00</td>\n      <td>Java</td>\n      <td>150.0</td>\n    </tr>\n    <tr>\n      <th>148</th>\n      <td>ivan.sibiryakov27@gmail.com</td>\n      <td>Java и C#. Backend-практикум онлайн от IT-комп...</td>\n      <td>2021-04-12 18:00:00</td>\n      <td>Java</td>\n      <td>151.0</td>\n    </tr>\n    <tr>\n      <th>149</th>\n      <td>kav7107@gmail.com</td>\n      <td>Java и C#. Backend-практикум онлайн от IT-комп...</td>\n      <td>2021-04-12 18:00:00</td>\n      <td>Java</td>\n      <td>152.0</td>\n    </tr>\n  </tbody>\n</table>\n<p>150 rows × 5 columns</p>\n</div>"
     },
     "execution_count": 204,
     "metadata": {},
     "output_type": "execute_result"
    }
   ],
   "source": [
    "track_choices_df['participant_id'] = participant_ids\n",
    "track_choices_df"
   ],
   "metadata": {
    "collapsed": false,
    "pycharm": {
     "name": "#%%\n"
    }
   }
  },
  {
   "cell_type": "code",
   "execution_count": 212,
   "outputs": [],
   "source": [
    "track_ids = []\n",
    "for index, row in track_choices_df.iterrows():\n",
    "    event_query = Event.objects.filter(title=row[event_header], date=row[event_date_header])\n",
    "    event_id = event_query[0].id if event_query else None\n",
    "    if not event_id:\n",
    "        track_ids.append(None)\n",
    "        continue\n",
    "    track_query = Track.objects.filter(event_id=event_id, title=row[track_name_header])\n",
    "    track_id = track_query[0].id if track_query else None\n",
    "    track_ids.append(track_id)"
   ],
   "metadata": {
    "collapsed": false,
    "pycharm": {
     "name": "#%%\n"
    }
   }
  },
  {
   "cell_type": "code",
   "execution_count": 213,
   "outputs": [
    {
     "name": "stderr",
     "output_type": "stream",
     "text": [
      "<ipython-input-213-f18d4262b30d>:1: SettingWithCopyWarning: \n",
      "A value is trying to be set on a copy of a slice from a DataFrame.\n",
      "Try using .loc[row_indexer,col_indexer] = value instead\n",
      "\n",
      "See the caveats in the documentation: https://pandas.pydata.org/pandas-docs/stable/user_guide/indexing.html#returning-a-view-versus-a-copy\n",
      "  track_choices_df['track_id'] = track_ids\n"
     ]
    },
    {
     "data": {
      "text/plain": "                          E-mail  \\\n0              kulaginag@mail.ru   \n1          olegoleg.ru@gmail.com   \n2        chuvashpeople@yandex.ru   \n3             shvorenkov@mail.ru   \n4     abakumova.olga.a@yandex.ru   \n..                           ...   \n145              reddns5@mail.ru   \n146       ilyashekin2811@mail.ru   \n147           strelchm@yandex.ru   \n148  ivan.sibiryakov27@gmail.com   \n149            kav7107@gmail.com   \n\n                                               Событие                Дата  \\\n0    Java и C#. Backend-практикум онлайн от IT-комп... 2021-04-12 18:00:00   \n1    Java и C#. Backend-практикум онлайн от IT-комп... 2021-04-12 18:00:00   \n2    Java и C#. Backend-практикум онлайн от IT-комп... 2021-04-12 18:00:00   \n3    Java и C#. Backend-практикум онлайн от IT-комп... 2021-04-12 18:00:00   \n4    Java и C#. Backend-практикум онлайн от IT-комп... 2021-04-12 18:00:00   \n..                                                 ...                 ...   \n145  Java и C#. Backend-практикум онлайн от IT-комп... 2021-04-12 18:00:00   \n146  Java и C#. Backend-практикум онлайн от IT-комп... 2021-04-12 18:00:00   \n147  Java и C#. Backend-практикум онлайн от IT-комп... 2021-04-12 18:00:00   \n148  Java и C#. Backend-практикум онлайн от IT-комп... 2021-04-12 18:00:00   \n149  Java и C#. Backend-практикум онлайн от IT-комп... 2021-04-12 18:00:00   \n\n    Для записи на практикум выберите один из треков:  participant_id  \\\n0                                                 C#             6.0   \n1                                                 C#             7.0   \n2                                                 C#             8.0   \n3                                                 C#             9.0   \n4                                                 C#            10.0   \n..                                               ...             ...   \n145                                             Java            77.0   \n146                                             Java           149.0   \n147                                             Java           150.0   \n148                                             Java           151.0   \n149                                             Java           152.0   \n\n     track_id             status  \n0           9  Зарегистрировался  \n1           9  Зарегистрировался  \n2           9  Зарегистрировался  \n3           9  Зарегистрировался  \n4           9  Зарегистрировался  \n..        ...                ...  \n145        10  Зарегистрировался  \n146        10  Зарегистрировался  \n147        10  Зарегистрировался  \n148        10  Зарегистрировался  \n149        10  Зарегистрировался  \n\n[147 rows x 7 columns]",
      "text/html": "<div>\n<style scoped>\n    .dataframe tbody tr th:only-of-type {\n        vertical-align: middle;\n    }\n\n    .dataframe tbody tr th {\n        vertical-align: top;\n    }\n\n    .dataframe thead th {\n        text-align: right;\n    }\n</style>\n<table border=\"1\" class=\"dataframe\">\n  <thead>\n    <tr style=\"text-align: right;\">\n      <th></th>\n      <th>E-mail</th>\n      <th>Событие</th>\n      <th>Дата</th>\n      <th>Для записи на практикум выберите один из треков:</th>\n      <th>participant_id</th>\n      <th>track_id</th>\n      <th>status</th>\n    </tr>\n  </thead>\n  <tbody>\n    <tr>\n      <th>0</th>\n      <td>kulaginag@mail.ru</td>\n      <td>Java и C#. Backend-практикум онлайн от IT-комп...</td>\n      <td>2021-04-12 18:00:00</td>\n      <td>C#</td>\n      <td>6.0</td>\n      <td>9</td>\n      <td>Зарегистрировался</td>\n    </tr>\n    <tr>\n      <th>1</th>\n      <td>olegoleg.ru@gmail.com</td>\n      <td>Java и C#. Backend-практикум онлайн от IT-комп...</td>\n      <td>2021-04-12 18:00:00</td>\n      <td>C#</td>\n      <td>7.0</td>\n      <td>9</td>\n      <td>Зарегистрировался</td>\n    </tr>\n    <tr>\n      <th>2</th>\n      <td>chuvashpeople@yandex.ru</td>\n      <td>Java и C#. Backend-практикум онлайн от IT-комп...</td>\n      <td>2021-04-12 18:00:00</td>\n      <td>C#</td>\n      <td>8.0</td>\n      <td>9</td>\n      <td>Зарегистрировался</td>\n    </tr>\n    <tr>\n      <th>3</th>\n      <td>shvorenkov@mail.ru</td>\n      <td>Java и C#. Backend-практикум онлайн от IT-комп...</td>\n      <td>2021-04-12 18:00:00</td>\n      <td>C#</td>\n      <td>9.0</td>\n      <td>9</td>\n      <td>Зарегистрировался</td>\n    </tr>\n    <tr>\n      <th>4</th>\n      <td>abakumova.olga.a@yandex.ru</td>\n      <td>Java и C#. Backend-практикум онлайн от IT-комп...</td>\n      <td>2021-04-12 18:00:00</td>\n      <td>C#</td>\n      <td>10.0</td>\n      <td>9</td>\n      <td>Зарегистрировался</td>\n    </tr>\n    <tr>\n      <th>...</th>\n      <td>...</td>\n      <td>...</td>\n      <td>...</td>\n      <td>...</td>\n      <td>...</td>\n      <td>...</td>\n      <td>...</td>\n    </tr>\n    <tr>\n      <th>145</th>\n      <td>reddns5@mail.ru</td>\n      <td>Java и C#. Backend-практикум онлайн от IT-комп...</td>\n      <td>2021-04-12 18:00:00</td>\n      <td>Java</td>\n      <td>77.0</td>\n      <td>10</td>\n      <td>Зарегистрировался</td>\n    </tr>\n    <tr>\n      <th>146</th>\n      <td>ilyashekin2811@mail.ru</td>\n      <td>Java и C#. Backend-практикум онлайн от IT-комп...</td>\n      <td>2021-04-12 18:00:00</td>\n      <td>Java</td>\n      <td>149.0</td>\n      <td>10</td>\n      <td>Зарегистрировался</td>\n    </tr>\n    <tr>\n      <th>147</th>\n      <td>strelchm@yandex.ru</td>\n      <td>Java и C#. Backend-практикум онлайн от IT-комп...</td>\n      <td>2021-04-12 18:00:00</td>\n      <td>Java</td>\n      <td>150.0</td>\n      <td>10</td>\n      <td>Зарегистрировался</td>\n    </tr>\n    <tr>\n      <th>148</th>\n      <td>ivan.sibiryakov27@gmail.com</td>\n      <td>Java и C#. Backend-практикум онлайн от IT-комп...</td>\n      <td>2021-04-12 18:00:00</td>\n      <td>Java</td>\n      <td>151.0</td>\n      <td>10</td>\n      <td>Зарегистрировался</td>\n    </tr>\n    <tr>\n      <th>149</th>\n      <td>kav7107@gmail.com</td>\n      <td>Java и C#. Backend-практикум онлайн от IT-комп...</td>\n      <td>2021-04-12 18:00:00</td>\n      <td>Java</td>\n      <td>152.0</td>\n      <td>10</td>\n      <td>Зарегистрировался</td>\n    </tr>\n  </tbody>\n</table>\n<p>147 rows × 7 columns</p>\n</div>"
     },
     "execution_count": 213,
     "metadata": {},
     "output_type": "execute_result"
    }
   ],
   "source": [
    "track_choices_df['track_id'] = track_ids\n",
    "track_choices_df"
   ],
   "metadata": {
    "collapsed": false,
    "pycharm": {
     "name": "#%%\n"
    }
   }
  },
  {
   "cell_type": "code",
   "execution_count": 214,
   "outputs": [
    {
     "name": "stderr",
     "output_type": "stream",
     "text": [
      "<ipython-input-214-e8ae6a1e70ae>:2: SettingWithCopyWarning: \n",
      "A value is trying to be set on a copy of a slice from a DataFrame.\n",
      "Try using .loc[row_indexer,col_indexer] = value instead\n",
      "\n",
      "See the caveats in the documentation: https://pandas.pydata.org/pandas-docs/stable/user_guide/indexing.html#returning-a-view-versus-a-copy\n",
      "  track_choices_df['status'] = ParticipantStatus.REGISTERED\n"
     ]
    },
    {
     "data": {
      "text/plain": "                          E-mail  \\\n0              kulaginag@mail.ru   \n1          olegoleg.ru@gmail.com   \n2        chuvashpeople@yandex.ru   \n3             shvorenkov@mail.ru   \n4     abakumova.olga.a@yandex.ru   \n..                           ...   \n145              reddns5@mail.ru   \n146       ilyashekin2811@mail.ru   \n147           strelchm@yandex.ru   \n148  ivan.sibiryakov27@gmail.com   \n149            kav7107@gmail.com   \n\n                                               Событие                Дата  \\\n0    Java и C#. Backend-практикум онлайн от IT-комп... 2021-04-12 18:00:00   \n1    Java и C#. Backend-практикум онлайн от IT-комп... 2021-04-12 18:00:00   \n2    Java и C#. Backend-практикум онлайн от IT-комп... 2021-04-12 18:00:00   \n3    Java и C#. Backend-практикум онлайн от IT-комп... 2021-04-12 18:00:00   \n4    Java и C#. Backend-практикум онлайн от IT-комп... 2021-04-12 18:00:00   \n..                                                 ...                 ...   \n145  Java и C#. Backend-практикум онлайн от IT-комп... 2021-04-12 18:00:00   \n146  Java и C#. Backend-практикум онлайн от IT-комп... 2021-04-12 18:00:00   \n147  Java и C#. Backend-практикум онлайн от IT-комп... 2021-04-12 18:00:00   \n148  Java и C#. Backend-практикум онлайн от IT-комп... 2021-04-12 18:00:00   \n149  Java и C#. Backend-практикум онлайн от IT-комп... 2021-04-12 18:00:00   \n\n    Для записи на практикум выберите один из треков:  participant_id  \\\n0                                                 C#             6.0   \n1                                                 C#             7.0   \n2                                                 C#             8.0   \n3                                                 C#             9.0   \n4                                                 C#            10.0   \n..                                               ...             ...   \n145                                             Java            77.0   \n146                                             Java           149.0   \n147                                             Java           150.0   \n148                                             Java           151.0   \n149                                             Java           152.0   \n\n     track_id             status  \n0           9  Зарегистрировался  \n1           9  Зарегистрировался  \n2           9  Зарегистрировался  \n3           9  Зарегистрировался  \n4           9  Зарегистрировался  \n..        ...                ...  \n145        10  Зарегистрировался  \n146        10  Зарегистрировался  \n147        10  Зарегистрировался  \n148        10  Зарегистрировался  \n149        10  Зарегистрировался  \n\n[147 rows x 7 columns]",
      "text/html": "<div>\n<style scoped>\n    .dataframe tbody tr th:only-of-type {\n        vertical-align: middle;\n    }\n\n    .dataframe tbody tr th {\n        vertical-align: top;\n    }\n\n    .dataframe thead th {\n        text-align: right;\n    }\n</style>\n<table border=\"1\" class=\"dataframe\">\n  <thead>\n    <tr style=\"text-align: right;\">\n      <th></th>\n      <th>E-mail</th>\n      <th>Событие</th>\n      <th>Дата</th>\n      <th>Для записи на практикум выберите один из треков:</th>\n      <th>participant_id</th>\n      <th>track_id</th>\n      <th>status</th>\n    </tr>\n  </thead>\n  <tbody>\n    <tr>\n      <th>0</th>\n      <td>kulaginag@mail.ru</td>\n      <td>Java и C#. Backend-практикум онлайн от IT-комп...</td>\n      <td>2021-04-12 18:00:00</td>\n      <td>C#</td>\n      <td>6.0</td>\n      <td>9</td>\n      <td>Зарегистрировался</td>\n    </tr>\n    <tr>\n      <th>1</th>\n      <td>olegoleg.ru@gmail.com</td>\n      <td>Java и C#. Backend-практикум онлайн от IT-комп...</td>\n      <td>2021-04-12 18:00:00</td>\n      <td>C#</td>\n      <td>7.0</td>\n      <td>9</td>\n      <td>Зарегистрировался</td>\n    </tr>\n    <tr>\n      <th>2</th>\n      <td>chuvashpeople@yandex.ru</td>\n      <td>Java и C#. Backend-практикум онлайн от IT-комп...</td>\n      <td>2021-04-12 18:00:00</td>\n      <td>C#</td>\n      <td>8.0</td>\n      <td>9</td>\n      <td>Зарегистрировался</td>\n    </tr>\n    <tr>\n      <th>3</th>\n      <td>shvorenkov@mail.ru</td>\n      <td>Java и C#. Backend-практикум онлайн от IT-комп...</td>\n      <td>2021-04-12 18:00:00</td>\n      <td>C#</td>\n      <td>9.0</td>\n      <td>9</td>\n      <td>Зарегистрировался</td>\n    </tr>\n    <tr>\n      <th>4</th>\n      <td>abakumova.olga.a@yandex.ru</td>\n      <td>Java и C#. Backend-практикум онлайн от IT-комп...</td>\n      <td>2021-04-12 18:00:00</td>\n      <td>C#</td>\n      <td>10.0</td>\n      <td>9</td>\n      <td>Зарегистрировался</td>\n    </tr>\n    <tr>\n      <th>...</th>\n      <td>...</td>\n      <td>...</td>\n      <td>...</td>\n      <td>...</td>\n      <td>...</td>\n      <td>...</td>\n      <td>...</td>\n    </tr>\n    <tr>\n      <th>145</th>\n      <td>reddns5@mail.ru</td>\n      <td>Java и C#. Backend-практикум онлайн от IT-комп...</td>\n      <td>2021-04-12 18:00:00</td>\n      <td>Java</td>\n      <td>77.0</td>\n      <td>10</td>\n      <td>Зарегистрировался</td>\n    </tr>\n    <tr>\n      <th>146</th>\n      <td>ilyashekin2811@mail.ru</td>\n      <td>Java и C#. Backend-практикум онлайн от IT-комп...</td>\n      <td>2021-04-12 18:00:00</td>\n      <td>Java</td>\n      <td>149.0</td>\n      <td>10</td>\n      <td>Зарегистрировался</td>\n    </tr>\n    <tr>\n      <th>147</th>\n      <td>strelchm@yandex.ru</td>\n      <td>Java и C#. Backend-практикум онлайн от IT-комп...</td>\n      <td>2021-04-12 18:00:00</td>\n      <td>Java</td>\n      <td>150.0</td>\n      <td>10</td>\n      <td>Зарегистрировался</td>\n    </tr>\n    <tr>\n      <th>148</th>\n      <td>ivan.sibiryakov27@gmail.com</td>\n      <td>Java и C#. Backend-практикум онлайн от IT-комп...</td>\n      <td>2021-04-12 18:00:00</td>\n      <td>Java</td>\n      <td>151.0</td>\n      <td>10</td>\n      <td>Зарегистрировался</td>\n    </tr>\n    <tr>\n      <th>149</th>\n      <td>kav7107@gmail.com</td>\n      <td>Java и C#. Backend-практикум онлайн от IT-комп...</td>\n      <td>2021-04-12 18:00:00</td>\n      <td>Java</td>\n      <td>152.0</td>\n      <td>10</td>\n      <td>Зарегистрировался</td>\n    </tr>\n  </tbody>\n</table>\n<p>147 rows × 7 columns</p>\n</div>"
     },
     "execution_count": 214,
     "metadata": {},
     "output_type": "execute_result"
    }
   ],
   "source": [
    "from event_stats_app.models import ParticipantStatus\n",
    "track_choices_df['status'] = ParticipantStatus.REGISTERED\n",
    "track_choices_df"
   ],
   "metadata": {
    "collapsed": false,
    "pycharm": {
     "name": "#%%\n"
    }
   }
  },
  {
   "cell_type": "code",
   "execution_count": 215,
   "outputs": [],
   "source": [
    "track_choices_df = track_choices_df.dropna()"
   ],
   "metadata": {
    "collapsed": false,
    "pycharm": {
     "name": "#%%\n"
    }
   }
  },
  {
   "cell_type": "code",
   "execution_count": 216,
   "outputs": [],
   "source": [
    "# track_choices_df = track_choices_df.rename(columns=columns_to_rename)\n",
    "columns_to_export = [\n",
    "    'participant_id',\n",
    "    'track_id',\n",
    "    'status',\n",
    "]"
   ],
   "metadata": {
    "collapsed": false,
    "pycharm": {
     "name": "#%%\n"
    }
   }
  },
  {
   "cell_type": "code",
   "execution_count": 217,
   "outputs": [
    {
     "data": {
      "text/plain": "[{'participant_id': 6.0,\n  'track_id': 9,\n  'status': <ParticipantStatus.REGISTERED: 'Зарегистрировался'>},\n {'participant_id': 7.0,\n  'track_id': 9,\n  'status': <ParticipantStatus.REGISTERED: 'Зарегистрировался'>},\n {'participant_id': 8.0,\n  'track_id': 9,\n  'status': <ParticipantStatus.REGISTERED: 'Зарегистрировался'>},\n {'participant_id': 9.0,\n  'track_id': 9,\n  'status': <ParticipantStatus.REGISTERED: 'Зарегистрировался'>},\n {'participant_id': 10.0,\n  'track_id': 9,\n  'status': <ParticipantStatus.REGISTERED: 'Зарегистрировался'>},\n {'participant_id': 11.0,\n  'track_id': 9,\n  'status': <ParticipantStatus.REGISTERED: 'Зарегистрировался'>},\n {'participant_id': 12.0,\n  'track_id': 9,\n  'status': <ParticipantStatus.REGISTERED: 'Зарегистрировался'>},\n {'participant_id': 13.0,\n  'track_id': 9,\n  'status': <ParticipantStatus.REGISTERED: 'Зарегистрировался'>},\n {'participant_id': 14.0,\n  'track_id': 9,\n  'status': <ParticipantStatus.REGISTERED: 'Зарегистрировался'>},\n {'participant_id': 15.0,\n  'track_id': 9,\n  'status': <ParticipantStatus.REGISTERED: 'Зарегистрировался'>},\n {'participant_id': 16.0,\n  'track_id': 9,\n  'status': <ParticipantStatus.REGISTERED: 'Зарегистрировался'>},\n {'participant_id': 17.0,\n  'track_id': 9,\n  'status': <ParticipantStatus.REGISTERED: 'Зарегистрировался'>},\n {'participant_id': 18.0,\n  'track_id': 9,\n  'status': <ParticipantStatus.REGISTERED: 'Зарегистрировался'>},\n {'participant_id': 19.0,\n  'track_id': 9,\n  'status': <ParticipantStatus.REGISTERED: 'Зарегистрировался'>},\n {'participant_id': 20.0,\n  'track_id': 9,\n  'status': <ParticipantStatus.REGISTERED: 'Зарегистрировался'>},\n {'participant_id': 21.0,\n  'track_id': 9,\n  'status': <ParticipantStatus.REGISTERED: 'Зарегистрировался'>},\n {'participant_id': 22.0,\n  'track_id': 9,\n  'status': <ParticipantStatus.REGISTERED: 'Зарегистрировался'>},\n {'participant_id': 23.0,\n  'track_id': 9,\n  'status': <ParticipantStatus.REGISTERED: 'Зарегистрировался'>},\n {'participant_id': 24.0,\n  'track_id': 9,\n  'status': <ParticipantStatus.REGISTERED: 'Зарегистрировался'>},\n {'participant_id': 25.0,\n  'track_id': 9,\n  'status': <ParticipantStatus.REGISTERED: 'Зарегистрировался'>},\n {'participant_id': 26.0,\n  'track_id': 9,\n  'status': <ParticipantStatus.REGISTERED: 'Зарегистрировался'>},\n {'participant_id': 27.0,\n  'track_id': 9,\n  'status': <ParticipantStatus.REGISTERED: 'Зарегистрировался'>},\n {'participant_id': 28.0,\n  'track_id': 9,\n  'status': <ParticipantStatus.REGISTERED: 'Зарегистрировался'>},\n {'participant_id': 29.0,\n  'track_id': 9,\n  'status': <ParticipantStatus.REGISTERED: 'Зарегистрировался'>},\n {'participant_id': 30.0,\n  'track_id': 9,\n  'status': <ParticipantStatus.REGISTERED: 'Зарегистрировался'>},\n {'participant_id': 31.0,\n  'track_id': 9,\n  'status': <ParticipantStatus.REGISTERED: 'Зарегистрировался'>},\n {'participant_id': 32.0,\n  'track_id': 9,\n  'status': <ParticipantStatus.REGISTERED: 'Зарегистрировался'>},\n {'participant_id': 34.0,\n  'track_id': 9,\n  'status': <ParticipantStatus.REGISTERED: 'Зарегистрировался'>},\n {'participant_id': 35.0,\n  'track_id': 9,\n  'status': <ParticipantStatus.REGISTERED: 'Зарегистрировался'>},\n {'participant_id': 36.0,\n  'track_id': 9,\n  'status': <ParticipantStatus.REGISTERED: 'Зарегистрировался'>},\n {'participant_id': 37.0,\n  'track_id': 9,\n  'status': <ParticipantStatus.REGISTERED: 'Зарегистрировался'>},\n {'participant_id': 38.0,\n  'track_id': 9,\n  'status': <ParticipantStatus.REGISTERED: 'Зарегистрировался'>},\n {'participant_id': 39.0,\n  'track_id': 9,\n  'status': <ParticipantStatus.REGISTERED: 'Зарегистрировался'>},\n {'participant_id': 40.0,\n  'track_id': 9,\n  'status': <ParticipantStatus.REGISTERED: 'Зарегистрировался'>},\n {'participant_id': 41.0,\n  'track_id': 9,\n  'status': <ParticipantStatus.REGISTERED: 'Зарегистрировался'>},\n {'participant_id': 42.0,\n  'track_id': 9,\n  'status': <ParticipantStatus.REGISTERED: 'Зарегистрировался'>},\n {'participant_id': 43.0,\n  'track_id': 9,\n  'status': <ParticipantStatus.REGISTERED: 'Зарегистрировался'>},\n {'participant_id': 44.0,\n  'track_id': 9,\n  'status': <ParticipantStatus.REGISTERED: 'Зарегистрировался'>},\n {'participant_id': 45.0,\n  'track_id': 9,\n  'status': <ParticipantStatus.REGISTERED: 'Зарегистрировался'>},\n {'participant_id': 46.0,\n  'track_id': 9,\n  'status': <ParticipantStatus.REGISTERED: 'Зарегистрировался'>},\n {'participant_id': 47.0,\n  'track_id': 9,\n  'status': <ParticipantStatus.REGISTERED: 'Зарегистрировался'>},\n {'participant_id': 48.0,\n  'track_id': 9,\n  'status': <ParticipantStatus.REGISTERED: 'Зарегистрировался'>},\n {'participant_id': 49.0,\n  'track_id': 9,\n  'status': <ParticipantStatus.REGISTERED: 'Зарегистрировался'>},\n {'participant_id': 50.0,\n  'track_id': 9,\n  'status': <ParticipantStatus.REGISTERED: 'Зарегистрировался'>},\n {'participant_id': 51.0,\n  'track_id': 9,\n  'status': <ParticipantStatus.REGISTERED: 'Зарегистрировался'>},\n {'participant_id': 52.0,\n  'track_id': 9,\n  'status': <ParticipantStatus.REGISTERED: 'Зарегистрировался'>},\n {'participant_id': 53.0,\n  'track_id': 9,\n  'status': <ParticipantStatus.REGISTERED: 'Зарегистрировался'>},\n {'participant_id': 54.0,\n  'track_id': 9,\n  'status': <ParticipantStatus.REGISTERED: 'Зарегистрировался'>},\n {'participant_id': 55.0,\n  'track_id': 9,\n  'status': <ParticipantStatus.REGISTERED: 'Зарегистрировался'>},\n {'participant_id': 56.0,\n  'track_id': 9,\n  'status': <ParticipantStatus.REGISTERED: 'Зарегистрировался'>},\n {'participant_id': 57.0,\n  'track_id': 9,\n  'status': <ParticipantStatus.REGISTERED: 'Зарегистрировался'>},\n {'participant_id': 58.0,\n  'track_id': 9,\n  'status': <ParticipantStatus.REGISTERED: 'Зарегистрировался'>},\n {'participant_id': 59.0,\n  'track_id': 9,\n  'status': <ParticipantStatus.REGISTERED: 'Зарегистрировался'>},\n {'participant_id': 60.0,\n  'track_id': 9,\n  'status': <ParticipantStatus.REGISTERED: 'Зарегистрировался'>},\n {'participant_id': 61.0,\n  'track_id': 9,\n  'status': <ParticipantStatus.REGISTERED: 'Зарегистрировался'>},\n {'participant_id': 62.0,\n  'track_id': 9,\n  'status': <ParticipantStatus.REGISTERED: 'Зарегистрировался'>},\n {'participant_id': 63.0,\n  'track_id': 9,\n  'status': <ParticipantStatus.REGISTERED: 'Зарегистрировался'>},\n {'participant_id': 64.0,\n  'track_id': 9,\n  'status': <ParticipantStatus.REGISTERED: 'Зарегистрировался'>},\n {'participant_id': 65.0,\n  'track_id': 9,\n  'status': <ParticipantStatus.REGISTERED: 'Зарегистрировался'>},\n {'participant_id': 66.0,\n  'track_id': 9,\n  'status': <ParticipantStatus.REGISTERED: 'Зарегистрировался'>},\n {'participant_id': 67.0,\n  'track_id': 9,\n  'status': <ParticipantStatus.REGISTERED: 'Зарегистрировался'>},\n {'participant_id': 68.0,\n  'track_id': 9,\n  'status': <ParticipantStatus.REGISTERED: 'Зарегистрировался'>},\n {'participant_id': 69.0,\n  'track_id': 9,\n  'status': <ParticipantStatus.REGISTERED: 'Зарегистрировался'>},\n {'participant_id': 70.0,\n  'track_id': 9,\n  'status': <ParticipantStatus.REGISTERED: 'Зарегистрировался'>},\n {'participant_id': 71.0,\n  'track_id': 9,\n  'status': <ParticipantStatus.REGISTERED: 'Зарегистрировался'>},\n {'participant_id': 72.0,\n  'track_id': 9,\n  'status': <ParticipantStatus.REGISTERED: 'Зарегистрировался'>},\n {'participant_id': 73.0,\n  'track_id': 9,\n  'status': <ParticipantStatus.REGISTERED: 'Зарегистрировался'>},\n {'participant_id': 74.0,\n  'track_id': 9,\n  'status': <ParticipantStatus.REGISTERED: 'Зарегистрировался'>},\n {'participant_id': 75.0,\n  'track_id': 9,\n  'status': <ParticipantStatus.REGISTERED: 'Зарегистрировался'>},\n {'participant_id': 76.0,\n  'track_id': 9,\n  'status': <ParticipantStatus.REGISTERED: 'Зарегистрировался'>},\n {'participant_id': 77.0,\n  'track_id': 9,\n  'status': <ParticipantStatus.REGISTERED: 'Зарегистрировался'>},\n {'participant_id': 79.0,\n  'track_id': 9,\n  'status': <ParticipantStatus.REGISTERED: 'Зарегистрировался'>},\n {'participant_id': 80.0,\n  'track_id': 10,\n  'status': <ParticipantStatus.REGISTERED: 'Зарегистрировался'>},\n {'participant_id': 81.0,\n  'track_id': 10,\n  'status': <ParticipantStatus.REGISTERED: 'Зарегистрировался'>},\n {'participant_id': 82.0,\n  'track_id': 10,\n  'status': <ParticipantStatus.REGISTERED: 'Зарегистрировался'>},\n {'participant_id': 83.0,\n  'track_id': 10,\n  'status': <ParticipantStatus.REGISTERED: 'Зарегистрировался'>},\n {'participant_id': 84.0,\n  'track_id': 10,\n  'status': <ParticipantStatus.REGISTERED: 'Зарегистрировался'>},\n {'participant_id': 85.0,\n  'track_id': 10,\n  'status': <ParticipantStatus.REGISTERED: 'Зарегистрировался'>},\n {'participant_id': 86.0,\n  'track_id': 10,\n  'status': <ParticipantStatus.REGISTERED: 'Зарегистрировался'>},\n {'participant_id': 87.0,\n  'track_id': 10,\n  'status': <ParticipantStatus.REGISTERED: 'Зарегистрировался'>},\n {'participant_id': 25.0,\n  'track_id': 10,\n  'status': <ParticipantStatus.REGISTERED: 'Зарегистрировался'>},\n {'participant_id': 88.0,\n  'track_id': 10,\n  'status': <ParticipantStatus.REGISTERED: 'Зарегистрировался'>},\n {'participant_id': 89.0,\n  'track_id': 10,\n  'status': <ParticipantStatus.REGISTERED: 'Зарегистрировался'>},\n {'participant_id': 90.0,\n  'track_id': 10,\n  'status': <ParticipantStatus.REGISTERED: 'Зарегистрировался'>},\n {'participant_id': 91.0,\n  'track_id': 10,\n  'status': <ParticipantStatus.REGISTERED: 'Зарегистрировался'>},\n {'participant_id': 92.0,\n  'track_id': 10,\n  'status': <ParticipantStatus.REGISTERED: 'Зарегистрировался'>},\n {'participant_id': 93.0,\n  'track_id': 10,\n  'status': <ParticipantStatus.REGISTERED: 'Зарегистрировался'>},\n {'participant_id': 94.0,\n  'track_id': 10,\n  'status': <ParticipantStatus.REGISTERED: 'Зарегистрировался'>},\n {'participant_id': 95.0,\n  'track_id': 10,\n  'status': <ParticipantStatus.REGISTERED: 'Зарегистрировался'>},\n {'participant_id': 96.0,\n  'track_id': 10,\n  'status': <ParticipantStatus.REGISTERED: 'Зарегистрировался'>},\n {'participant_id': 97.0,\n  'track_id': 10,\n  'status': <ParticipantStatus.REGISTERED: 'Зарегистрировался'>},\n {'participant_id': 98.0,\n  'track_id': 10,\n  'status': <ParticipantStatus.REGISTERED: 'Зарегистрировался'>},\n {'participant_id': 99.0,\n  'track_id': 10,\n  'status': <ParticipantStatus.REGISTERED: 'Зарегистрировался'>},\n {'participant_id': 100.0,\n  'track_id': 10,\n  'status': <ParticipantStatus.REGISTERED: 'Зарегистрировался'>},\n {'participant_id': 101.0,\n  'track_id': 10,\n  'status': <ParticipantStatus.REGISTERED: 'Зарегистрировался'>},\n {'participant_id': 102.0,\n  'track_id': 10,\n  'status': <ParticipantStatus.REGISTERED: 'Зарегистрировался'>},\n {'participant_id': 103.0,\n  'track_id': 10,\n  'status': <ParticipantStatus.REGISTERED: 'Зарегистрировался'>},\n {'participant_id': 104.0,\n  'track_id': 10,\n  'status': <ParticipantStatus.REGISTERED: 'Зарегистрировался'>},\n {'participant_id': 105.0,\n  'track_id': 10,\n  'status': <ParticipantStatus.REGISTERED: 'Зарегистрировался'>},\n {'participant_id': 106.0,\n  'track_id': 10,\n  'status': <ParticipantStatus.REGISTERED: 'Зарегистрировался'>},\n {'participant_id': 107.0,\n  'track_id': 10,\n  'status': <ParticipantStatus.REGISTERED: 'Зарегистрировался'>},\n {'participant_id': 108.0,\n  'track_id': 10,\n  'status': <ParticipantStatus.REGISTERED: 'Зарегистрировался'>},\n {'participant_id': 109.0,\n  'track_id': 10,\n  'status': <ParticipantStatus.REGISTERED: 'Зарегистрировался'>},\n {'participant_id': 110.0,\n  'track_id': 10,\n  'status': <ParticipantStatus.REGISTERED: 'Зарегистрировался'>},\n {'participant_id': 111.0,\n  'track_id': 10,\n  'status': <ParticipantStatus.REGISTERED: 'Зарегистрировался'>},\n {'participant_id': 112.0,\n  'track_id': 10,\n  'status': <ParticipantStatus.REGISTERED: 'Зарегистрировался'>},\n {'participant_id': 113.0,\n  'track_id': 10,\n  'status': <ParticipantStatus.REGISTERED: 'Зарегистрировался'>},\n {'participant_id': 114.0,\n  'track_id': 10,\n  'status': <ParticipantStatus.REGISTERED: 'Зарегистрировался'>},\n {'participant_id': 115.0,\n  'track_id': 10,\n  'status': <ParticipantStatus.REGISTERED: 'Зарегистрировался'>},\n {'participant_id': 116.0,\n  'track_id': 10,\n  'status': <ParticipantStatus.REGISTERED: 'Зарегистрировался'>},\n {'participant_id': 117.0,\n  'track_id': 10,\n  'status': <ParticipantStatus.REGISTERED: 'Зарегистрировался'>},\n {'participant_id': 118.0,\n  'track_id': 10,\n  'status': <ParticipantStatus.REGISTERED: 'Зарегистрировался'>},\n {'participant_id': 119.0,\n  'track_id': 10,\n  'status': <ParticipantStatus.REGISTERED: 'Зарегистрировался'>},\n {'participant_id': 120.0,\n  'track_id': 10,\n  'status': <ParticipantStatus.REGISTERED: 'Зарегистрировался'>},\n {'participant_id': 121.0,\n  'track_id': 10,\n  'status': <ParticipantStatus.REGISTERED: 'Зарегистрировался'>},\n {'participant_id': 123.0,\n  'track_id': 10,\n  'status': <ParticipantStatus.REGISTERED: 'Зарегистрировался'>},\n {'participant_id': 124.0,\n  'track_id': 10,\n  'status': <ParticipantStatus.REGISTERED: 'Зарегистрировался'>},\n {'participant_id': 125.0,\n  'track_id': 10,\n  'status': <ParticipantStatus.REGISTERED: 'Зарегистрировался'>},\n {'participant_id': 126.0,\n  'track_id': 10,\n  'status': <ParticipantStatus.REGISTERED: 'Зарегистрировался'>},\n {'participant_id': 127.0,\n  'track_id': 10,\n  'status': <ParticipantStatus.REGISTERED: 'Зарегистрировался'>},\n {'participant_id': 128.0,\n  'track_id': 10,\n  'status': <ParticipantStatus.REGISTERED: 'Зарегистрировался'>},\n {'participant_id': 129.0,\n  'track_id': 10,\n  'status': <ParticipantStatus.REGISTERED: 'Зарегистрировался'>},\n {'participant_id': 130.0,\n  'track_id': 10,\n  'status': <ParticipantStatus.REGISTERED: 'Зарегистрировался'>},\n {'participant_id': 131.0,\n  'track_id': 10,\n  'status': <ParticipantStatus.REGISTERED: 'Зарегистрировался'>},\n {'participant_id': 132.0,\n  'track_id': 10,\n  'status': <ParticipantStatus.REGISTERED: 'Зарегистрировался'>},\n {'participant_id': 133.0,\n  'track_id': 10,\n  'status': <ParticipantStatus.REGISTERED: 'Зарегистрировался'>},\n {'participant_id': 134.0,\n  'track_id': 10,\n  'status': <ParticipantStatus.REGISTERED: 'Зарегистрировался'>},\n {'participant_id': 135.0,\n  'track_id': 10,\n  'status': <ParticipantStatus.REGISTERED: 'Зарегистрировался'>},\n {'participant_id': 136.0,\n  'track_id': 10,\n  'status': <ParticipantStatus.REGISTERED: 'Зарегистрировался'>},\n {'participant_id': 137.0,\n  'track_id': 10,\n  'status': <ParticipantStatus.REGISTERED: 'Зарегистрировался'>},\n {'participant_id': 68.0,\n  'track_id': 10,\n  'status': <ParticipantStatus.REGISTERED: 'Зарегистрировался'>},\n {'participant_id': 138.0,\n  'track_id': 10,\n  'status': <ParticipantStatus.REGISTERED: 'Зарегистрировался'>},\n {'participant_id': 139.0,\n  'track_id': 10,\n  'status': <ParticipantStatus.REGISTERED: 'Зарегистрировался'>},\n {'participant_id': 140.0,\n  'track_id': 10,\n  'status': <ParticipantStatus.REGISTERED: 'Зарегистрировался'>},\n {'participant_id': 141.0,\n  'track_id': 10,\n  'status': <ParticipantStatus.REGISTERED: 'Зарегистрировался'>},\n {'participant_id': 142.0,\n  'track_id': 10,\n  'status': <ParticipantStatus.REGISTERED: 'Зарегистрировался'>},\n {'participant_id': 143.0,\n  'track_id': 10,\n  'status': <ParticipantStatus.REGISTERED: 'Зарегистрировался'>},\n {'participant_id': 144.0,\n  'track_id': 10,\n  'status': <ParticipantStatus.REGISTERED: 'Зарегистрировался'>},\n {'participant_id': 145.0,\n  'track_id': 10,\n  'status': <ParticipantStatus.REGISTERED: 'Зарегистрировался'>},\n {'participant_id': 146.0,\n  'track_id': 10,\n  'status': <ParticipantStatus.REGISTERED: 'Зарегистрировался'>},\n {'participant_id': 147.0,\n  'track_id': 10,\n  'status': <ParticipantStatus.REGISTERED: 'Зарегистрировался'>},\n {'participant_id': 148.0,\n  'track_id': 10,\n  'status': <ParticipantStatus.REGISTERED: 'Зарегистрировался'>},\n {'participant_id': 77.0,\n  'track_id': 10,\n  'status': <ParticipantStatus.REGISTERED: 'Зарегистрировался'>},\n {'participant_id': 149.0,\n  'track_id': 10,\n  'status': <ParticipantStatus.REGISTERED: 'Зарегистрировался'>},\n {'participant_id': 150.0,\n  'track_id': 10,\n  'status': <ParticipantStatus.REGISTERED: 'Зарегистрировался'>},\n {'participant_id': 151.0,\n  'track_id': 10,\n  'status': <ParticipantStatus.REGISTERED: 'Зарегистрировался'>},\n {'participant_id': 152.0,\n  'track_id': 10,\n  'status': <ParticipantStatus.REGISTERED: 'Зарегистрировался'>}]"
     },
     "execution_count": 217,
     "metadata": {},
     "output_type": "execute_result"
    }
   ],
   "source": [
    "track_choices_data = track_choices_df[columns_to_export].to_dict('records')\n",
    "track_choices_data"
   ],
   "metadata": {
    "collapsed": false,
    "pycharm": {
     "name": "#%%\n"
    }
   }
  },
  {
   "cell_type": "code",
   "execution_count": 218,
   "outputs": [],
   "source": [
    "add_objects(TrackChoice, track_choices_data)\n"
   ],
   "metadata": {
    "collapsed": false,
    "pycharm": {
     "name": "#%%\n"
    }
   }
  },
  {
   "cell_type": "code",
   "execution_count": null,
   "outputs": [],
   "source": [],
   "metadata": {
    "collapsed": false,
    "pycharm": {
     "name": "#%%\n"
    }
   }
  }
 ],
 "metadata": {
  "kernelspec": {
   "display_name": "Python 3",
   "language": "python",
   "name": "python3"
  },
  "language_info": {
   "codemirror_mode": {
    "name": "ipython",
    "version": 3
   },
   "file_extension": ".py",
   "mimetype": "text/x-python",
   "name": "python",
   "nbconvert_exporter": "python",
   "pygments_lexer": "ipython3",
   "version": "3.9.1"
  }
 },
 "nbformat": 4,
 "nbformat_minor": 5
}